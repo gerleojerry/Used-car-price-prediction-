{
 "cells": [
  {
   "cell_type": "markdown",
   "metadata": {},
   "source": [
    "Importing the neccesary libraries"
   ]
  },
  {
   "cell_type": "code",
   "execution_count": 106,
   "metadata": {},
   "outputs": [],
   "source": [
    "import numpy as np\n",
    "import pandas as pd\n",
    "import matplotlib.pyplot as plt\n",
    "import seaborn as sns\n",
    "from sklearn.preprocessing import StandardScaler, RobustScaler\n",
    "from sklearn.model_selection import train_test_split, GridSearchCV\n",
    "from sklearn.linear_model import LinearRegression, Lasso, Ridge\n",
    "from sklearn.svm import SVR\n",
    "from sklearn.ensemble import RandomForestRegressor, ExtraTreesRegressor\n",
    "from sklearn.tree import DecisionTreeRegressor\n",
    "from sklearn.impute import KNNImputer\n",
    "from sklearn.metrics import r2_score, mean_absolute_error, mean_squared_error"
   ]
  },
  {
   "cell_type": "code",
   "execution_count": 2,
   "metadata": {},
   "outputs": [],
   "source": [
    "data = pd.read_csv('dataset1.csv')\n",
    "data.head(3)\n",
    "data_ =  data.copy(deep=True)"
   ]
  },
  {
   "cell_type": "markdown",
   "metadata": {},
   "source": [
    "Checking the info of the data"
   ]
  },
  {
   "cell_type": "code",
   "execution_count": 3,
   "metadata": {},
   "outputs": [
    {
     "name": "stdout",
     "output_type": "stream",
     "text": [
      "<class 'pandas.core.frame.DataFrame'>\n",
      "RangeIndex: 6019 entries, 0 to 6018\n",
      "Data columns (total 14 columns):\n",
      " #   Column             Non-Null Count  Dtype  \n",
      "---  ------             --------------  -----  \n",
      " 0   Unnamed: 0         6019 non-null   int64  \n",
      " 1   Name               6019 non-null   object \n",
      " 2   Location           6019 non-null   object \n",
      " 3   Year               6019 non-null   int64  \n",
      " 4   Kilometers_Driven  6019 non-null   int64  \n",
      " 5   Fuel_Type          6019 non-null   object \n",
      " 6   Transmission       6019 non-null   object \n",
      " 7   Owner_Type         6019 non-null   object \n",
      " 8   Mileage            6017 non-null   object \n",
      " 9   Engine             5983 non-null   object \n",
      " 10  Power              5983 non-null   object \n",
      " 11  Seats              5977 non-null   float64\n",
      " 12  New_Price          824 non-null    object \n",
      " 13  Price              6019 non-null   float64\n",
      "dtypes: float64(2), int64(3), object(9)\n",
      "memory usage: 658.5+ KB\n"
     ]
    }
   ],
   "source": [
    "data.info()"
   ]
  },
  {
   "cell_type": "markdown",
   "metadata": {},
   "source": [
    "From the above it is observed that there are missing values and also presence of categorical variables, so there will have to a need to onehotencode those features"
   ]
  },
  {
   "cell_type": "markdown",
   "metadata": {},
   "source": [
    "Checking the descriptive statistic of the data"
   ]
  },
  {
   "cell_type": "code",
   "execution_count": 4,
   "metadata": {},
   "outputs": [
    {
     "data": {
      "text/html": [
       "<div>\n",
       "<style scoped>\n",
       "    .dataframe tbody tr th:only-of-type {\n",
       "        vertical-align: middle;\n",
       "    }\n",
       "\n",
       "    .dataframe tbody tr th {\n",
       "        vertical-align: top;\n",
       "    }\n",
       "\n",
       "    .dataframe thead th {\n",
       "        text-align: right;\n",
       "    }\n",
       "</style>\n",
       "<table border=\"1\" class=\"dataframe\">\n",
       "  <thead>\n",
       "    <tr style=\"text-align: right;\">\n",
       "      <th></th>\n",
       "      <th>Unnamed: 0</th>\n",
       "      <th>Year</th>\n",
       "      <th>Kilometers_Driven</th>\n",
       "      <th>Seats</th>\n",
       "      <th>Price</th>\n",
       "    </tr>\n",
       "  </thead>\n",
       "  <tbody>\n",
       "    <tr>\n",
       "      <th>count</th>\n",
       "      <td>6019.000000</td>\n",
       "      <td>6019.000000</td>\n",
       "      <td>6.019000e+03</td>\n",
       "      <td>5977.000000</td>\n",
       "      <td>6019.000000</td>\n",
       "    </tr>\n",
       "    <tr>\n",
       "      <th>mean</th>\n",
       "      <td>3009.000000</td>\n",
       "      <td>2013.358199</td>\n",
       "      <td>5.873838e+04</td>\n",
       "      <td>5.278735</td>\n",
       "      <td>9.479468</td>\n",
       "    </tr>\n",
       "    <tr>\n",
       "      <th>std</th>\n",
       "      <td>1737.679967</td>\n",
       "      <td>3.269742</td>\n",
       "      <td>9.126884e+04</td>\n",
       "      <td>0.808840</td>\n",
       "      <td>11.187917</td>\n",
       "    </tr>\n",
       "    <tr>\n",
       "      <th>min</th>\n",
       "      <td>0.000000</td>\n",
       "      <td>1998.000000</td>\n",
       "      <td>1.710000e+02</td>\n",
       "      <td>0.000000</td>\n",
       "      <td>0.440000</td>\n",
       "    </tr>\n",
       "    <tr>\n",
       "      <th>25%</th>\n",
       "      <td>1504.500000</td>\n",
       "      <td>2011.000000</td>\n",
       "      <td>3.400000e+04</td>\n",
       "      <td>5.000000</td>\n",
       "      <td>3.500000</td>\n",
       "    </tr>\n",
       "    <tr>\n",
       "      <th>50%</th>\n",
       "      <td>3009.000000</td>\n",
       "      <td>2014.000000</td>\n",
       "      <td>5.300000e+04</td>\n",
       "      <td>5.000000</td>\n",
       "      <td>5.640000</td>\n",
       "    </tr>\n",
       "    <tr>\n",
       "      <th>75%</th>\n",
       "      <td>4513.500000</td>\n",
       "      <td>2016.000000</td>\n",
       "      <td>7.300000e+04</td>\n",
       "      <td>5.000000</td>\n",
       "      <td>9.950000</td>\n",
       "    </tr>\n",
       "    <tr>\n",
       "      <th>max</th>\n",
       "      <td>6018.000000</td>\n",
       "      <td>2019.000000</td>\n",
       "      <td>6.500000e+06</td>\n",
       "      <td>10.000000</td>\n",
       "      <td>160.000000</td>\n",
       "    </tr>\n",
       "  </tbody>\n",
       "</table>\n",
       "</div>"
      ],
      "text/plain": [
       "        Unnamed: 0         Year  Kilometers_Driven        Seats        Price\n",
       "count  6019.000000  6019.000000       6.019000e+03  5977.000000  6019.000000\n",
       "mean   3009.000000  2013.358199       5.873838e+04     5.278735     9.479468\n",
       "std    1737.679967     3.269742       9.126884e+04     0.808840    11.187917\n",
       "min       0.000000  1998.000000       1.710000e+02     0.000000     0.440000\n",
       "25%    1504.500000  2011.000000       3.400000e+04     5.000000     3.500000\n",
       "50%    3009.000000  2014.000000       5.300000e+04     5.000000     5.640000\n",
       "75%    4513.500000  2016.000000       7.300000e+04     5.000000     9.950000\n",
       "max    6018.000000  2019.000000       6.500000e+06    10.000000   160.000000"
      ]
     },
     "execution_count": 4,
     "metadata": {},
     "output_type": "execute_result"
    }
   ],
   "source": [
    "data.describe()"
   ]
  },
  {
   "cell_type": "markdown",
   "metadata": {},
   "source": [
    "Checking for the presence of duplicated values present in the data "
   ]
  },
  {
   "cell_type": "code",
   "execution_count": 5,
   "metadata": {},
   "outputs": [
    {
     "data": {
      "text/plain": [
       "0"
      ]
     },
     "execution_count": 5,
     "metadata": {},
     "output_type": "execute_result"
    }
   ],
   "source": [
    "data.duplicated().sum()"
   ]
  },
  {
   "cell_type": "markdown",
   "metadata": {},
   "source": [
    "There are no duplicated values present in the data"
   ]
  },
  {
   "cell_type": "markdown",
   "metadata": {},
   "source": [
    "Checking the null values present in the data"
   ]
  },
  {
   "cell_type": "code",
   "execution_count": 6,
   "metadata": {},
   "outputs": [
    {
     "data": {
      "text/plain": [
       "Unnamed: 0              0\n",
       "Name                    0\n",
       "Location                0\n",
       "Year                    0\n",
       "Kilometers_Driven       0\n",
       "Fuel_Type               0\n",
       "Transmission            0\n",
       "Owner_Type              0\n",
       "Mileage                 2\n",
       "Engine                 36\n",
       "Power                  36\n",
       "Seats                  42\n",
       "New_Price            5195\n",
       "Price                   0\n",
       "dtype: int64"
      ]
     },
     "execution_count": 6,
     "metadata": {},
     "output_type": "execute_result"
    }
   ],
   "source": [
    "data.isnull().sum()"
   ]
  },
  {
   "cell_type": "markdown",
   "metadata": {},
   "source": [
    "The following features has missing values, Mileage, Engine,Power, Seats, New_Price, But the new_price feature will be dropped because it has a lot of missing values."
   ]
  },
  {
   "cell_type": "code",
   "execution_count": 7,
   "metadata": {},
   "outputs": [],
   "source": [
    "columns = data.columns"
   ]
  },
  {
   "cell_type": "markdown",
   "metadata": {},
   "source": [
    " from the above, the following features has units,which makes them categorical, so the units will have to removed Mileage, Engine, Power\t"
   ]
  },
  {
   "cell_type": "markdown",
   "metadata": {},
   "source": [
    "For the mileage feature, the unit has the length of 4 with the empty space making it 5, so we will have to drop the last characters in all the samples of the features"
   ]
  },
  {
   "cell_type": "code",
   "execution_count": 8,
   "metadata": {},
   "outputs": [],
   "source": [
    "data['Mileage'] = data['Mileage'].map(lambda x : str(x)[0:-5])\n",
    "data['Mileage'] = pd.to_numeric(data['Mileage'])"
   ]
  },
  {
   "cell_type": "markdown",
   "metadata": {},
   "source": [
    "Successfully converted the mileage feature into a numeric column."
   ]
  },
  {
   "cell_type": "markdown",
   "metadata": {},
   "source": [
    "Converting the Engine column to a numeric column, since the last three characters are not needed, they will be removed from each item"
   ]
  },
  {
   "cell_type": "code",
   "execution_count": 9,
   "metadata": {},
   "outputs": [],
   "source": [
    "data['Engine'] = data['Engine'].map(lambda x: str(x)[:-3])\n",
    "data['Engine'] = pd.to_numeric(data['Engine'])"
   ]
  },
  {
   "cell_type": "markdown",
   "metadata": {},
   "source": [
    "The Engine feature has  been successfully converted to a numeric feature."
   ]
  },
  {
   "cell_type": "markdown",
   "metadata": {},
   "source": [
    "Converting the Power feature from a categorical feature into a numeric feature. In the power feature, the last four characters of each element is not needed."
   ]
  },
  {
   "cell_type": "code",
   "execution_count": 10,
   "metadata": {},
   "outputs": [],
   "source": [
    "data['Power'] = data['Power'].map(lambda x : str(x)[:-4])\n",
    "data['Power'] = pd.to_numeric(data['Power'], errors = 'coerce')"
   ]
  },
  {
   "cell_type": "code",
   "execution_count": 11,
   "metadata": {},
   "outputs": [
    {
     "data": {
      "text/plain": [
       "0        58.16\n",
       "1       126.20\n",
       "2        88.70\n",
       "3        88.76\n",
       "4       140.80\n",
       "         ...  \n",
       "6014     74.00\n",
       "6015     71.00\n",
       "6016    112.00\n",
       "6017     67.10\n",
       "6018     57.60\n",
       "Name: Power, Length: 6019, dtype: float64"
      ]
     },
     "execution_count": 11,
     "metadata": {},
     "output_type": "execute_result"
    }
   ],
   "source": [
    "data['Power']"
   ]
  },
  {
   "cell_type": "markdown",
   "metadata": {},
   "source": [
    "The power feature has been successfully converted to a numerical feature."
   ]
  },
  {
   "cell_type": "code",
   "execution_count": null,
   "metadata": {},
   "outputs": [],
   "source": []
  },
  {
   "cell_type": "markdown",
   "metadata": {},
   "source": [
    "The following columns will be dropped, Name, because it can not improve the quality of the model, New_Price, because it has a higher percentage of its values missing. and then the rest of the categorical variable  will be one hot encoded."
   ]
  },
  {
   "cell_type": "code",
   "execution_count": 12,
   "metadata": {},
   "outputs": [],
   "source": [
    "data = data.drop(columns = ['Name', 'New_Price'])"
   ]
  },
  {
   "cell_type": "markdown",
   "metadata": {},
   "source": [
    "The Name and New_Price feature of the data has been dropped"
   ]
  },
  {
   "cell_type": "code",
   "execution_count": 13,
   "metadata": {},
   "outputs": [
    {
     "name": "stdout",
     "output_type": "stream",
     "text": [
      "<class 'pandas.core.frame.DataFrame'>\n",
      "RangeIndex: 6019 entries, 0 to 6018\n",
      "Data columns (total 12 columns):\n",
      " #   Column             Non-Null Count  Dtype  \n",
      "---  ------             --------------  -----  \n",
      " 0   Unnamed: 0         6019 non-null   int64  \n",
      " 1   Location           6019 non-null   object \n",
      " 2   Year               6019 non-null   int64  \n",
      " 3   Kilometers_Driven  6019 non-null   int64  \n",
      " 4   Fuel_Type          6019 non-null   object \n",
      " 5   Transmission       6019 non-null   object \n",
      " 6   Owner_Type         6019 non-null   object \n",
      " 7   Mileage            6017 non-null   float64\n",
      " 8   Engine             5983 non-null   float64\n",
      " 9   Power              5876 non-null   float64\n",
      " 10  Seats              5977 non-null   float64\n",
      " 11  Price              6019 non-null   float64\n",
      "dtypes: float64(5), int64(3), object(4)\n",
      "memory usage: 564.4+ KB\n"
     ]
    }
   ],
   "source": [
    "data.info()"
   ]
  },
  {
   "cell_type": "markdown",
   "metadata": {},
   "source": [
    "Rechecking the distribution of the data again \n"
   ]
  },
  {
   "cell_type": "code",
   "execution_count": 14,
   "metadata": {},
   "outputs": [
    {
     "data": {
      "text/html": [
       "<div>\n",
       "<style scoped>\n",
       "    .dataframe tbody tr th:only-of-type {\n",
       "        vertical-align: middle;\n",
       "    }\n",
       "\n",
       "    .dataframe tbody tr th {\n",
       "        vertical-align: top;\n",
       "    }\n",
       "\n",
       "    .dataframe thead th {\n",
       "        text-align: right;\n",
       "    }\n",
       "</style>\n",
       "<table border=\"1\" class=\"dataframe\">\n",
       "  <thead>\n",
       "    <tr style=\"text-align: right;\">\n",
       "      <th></th>\n",
       "      <th>Unnamed: 0</th>\n",
       "      <th>Year</th>\n",
       "      <th>Kilometers_Driven</th>\n",
       "      <th>Mileage</th>\n",
       "      <th>Engine</th>\n",
       "      <th>Power</th>\n",
       "      <th>Seats</th>\n",
       "      <th>Price</th>\n",
       "    </tr>\n",
       "  </thead>\n",
       "  <tbody>\n",
       "    <tr>\n",
       "      <th>count</th>\n",
       "      <td>6019.000000</td>\n",
       "      <td>6019.000000</td>\n",
       "      <td>6.019000e+03</td>\n",
       "      <td>6017.000000</td>\n",
       "      <td>5983.000000</td>\n",
       "      <td>5876.000000</td>\n",
       "      <td>5977.000000</td>\n",
       "      <td>6019.000000</td>\n",
       "    </tr>\n",
       "    <tr>\n",
       "      <th>mean</th>\n",
       "      <td>3009.000000</td>\n",
       "      <td>2013.358199</td>\n",
       "      <td>5.873838e+04</td>\n",
       "      <td>18.134961</td>\n",
       "      <td>1621.276450</td>\n",
       "      <td>113.253050</td>\n",
       "      <td>5.278735</td>\n",
       "      <td>9.479468</td>\n",
       "    </tr>\n",
       "    <tr>\n",
       "      <th>std</th>\n",
       "      <td>1737.679967</td>\n",
       "      <td>3.269742</td>\n",
       "      <td>9.126884e+04</td>\n",
       "      <td>4.582289</td>\n",
       "      <td>601.355233</td>\n",
       "      <td>53.874957</td>\n",
       "      <td>0.808840</td>\n",
       "      <td>11.187917</td>\n",
       "    </tr>\n",
       "    <tr>\n",
       "      <th>min</th>\n",
       "      <td>0.000000</td>\n",
       "      <td>1998.000000</td>\n",
       "      <td>1.710000e+02</td>\n",
       "      <td>0.000000</td>\n",
       "      <td>72.000000</td>\n",
       "      <td>34.200000</td>\n",
       "      <td>0.000000</td>\n",
       "      <td>0.440000</td>\n",
       "    </tr>\n",
       "    <tr>\n",
       "      <th>25%</th>\n",
       "      <td>1504.500000</td>\n",
       "      <td>2011.000000</td>\n",
       "      <td>3.400000e+04</td>\n",
       "      <td>15.170000</td>\n",
       "      <td>1198.000000</td>\n",
       "      <td>75.000000</td>\n",
       "      <td>5.000000</td>\n",
       "      <td>3.500000</td>\n",
       "    </tr>\n",
       "    <tr>\n",
       "      <th>50%</th>\n",
       "      <td>3009.000000</td>\n",
       "      <td>2014.000000</td>\n",
       "      <td>5.300000e+04</td>\n",
       "      <td>18.150000</td>\n",
       "      <td>1493.000000</td>\n",
       "      <td>97.700000</td>\n",
       "      <td>5.000000</td>\n",
       "      <td>5.640000</td>\n",
       "    </tr>\n",
       "    <tr>\n",
       "      <th>75%</th>\n",
       "      <td>4513.500000</td>\n",
       "      <td>2016.000000</td>\n",
       "      <td>7.300000e+04</td>\n",
       "      <td>21.100000</td>\n",
       "      <td>1984.000000</td>\n",
       "      <td>138.100000</td>\n",
       "      <td>5.000000</td>\n",
       "      <td>9.950000</td>\n",
       "    </tr>\n",
       "    <tr>\n",
       "      <th>max</th>\n",
       "      <td>6018.000000</td>\n",
       "      <td>2019.000000</td>\n",
       "      <td>6.500000e+06</td>\n",
       "      <td>33.540000</td>\n",
       "      <td>5998.000000</td>\n",
       "      <td>560.000000</td>\n",
       "      <td>10.000000</td>\n",
       "      <td>160.000000</td>\n",
       "    </tr>\n",
       "  </tbody>\n",
       "</table>\n",
       "</div>"
      ],
      "text/plain": [
       "        Unnamed: 0         Year  Kilometers_Driven      Mileage       Engine  \\\n",
       "count  6019.000000  6019.000000       6.019000e+03  6017.000000  5983.000000   \n",
       "mean   3009.000000  2013.358199       5.873838e+04    18.134961  1621.276450   \n",
       "std    1737.679967     3.269742       9.126884e+04     4.582289   601.355233   \n",
       "min       0.000000  1998.000000       1.710000e+02     0.000000    72.000000   \n",
       "25%    1504.500000  2011.000000       3.400000e+04    15.170000  1198.000000   \n",
       "50%    3009.000000  2014.000000       5.300000e+04    18.150000  1493.000000   \n",
       "75%    4513.500000  2016.000000       7.300000e+04    21.100000  1984.000000   \n",
       "max    6018.000000  2019.000000       6.500000e+06    33.540000  5998.000000   \n",
       "\n",
       "             Power        Seats        Price  \n",
       "count  5876.000000  5977.000000  6019.000000  \n",
       "mean    113.253050     5.278735     9.479468  \n",
       "std      53.874957     0.808840    11.187917  \n",
       "min      34.200000     0.000000     0.440000  \n",
       "25%      75.000000     5.000000     3.500000  \n",
       "50%      97.700000     5.000000     5.640000  \n",
       "75%     138.100000     5.000000     9.950000  \n",
       "max     560.000000    10.000000   160.000000  "
      ]
     },
     "execution_count": 14,
     "metadata": {},
     "output_type": "execute_result"
    }
   ],
   "source": [
    "data.describe()"
   ]
  },
  {
   "cell_type": "markdown",
   "metadata": {},
   "source": [
    "From the above, it is observed that some cars has a mileage of 0 and some has seat of zero,which are technically possible "
   ]
  },
  {
   "cell_type": "markdown",
   "metadata": {},
   "source": [
    "Dropping the sample with the number of seats to be zero "
   ]
  },
  {
   "cell_type": "code",
   "execution_count": 15,
   "metadata": {},
   "outputs": [
    {
     "data": {
      "text/html": [
       "<div>\n",
       "<style scoped>\n",
       "    .dataframe tbody tr th:only-of-type {\n",
       "        vertical-align: middle;\n",
       "    }\n",
       "\n",
       "    .dataframe tbody tr th {\n",
       "        vertical-align: top;\n",
       "    }\n",
       "\n",
       "    .dataframe thead th {\n",
       "        text-align: right;\n",
       "    }\n",
       "</style>\n",
       "<table border=\"1\" class=\"dataframe\">\n",
       "  <thead>\n",
       "    <tr style=\"text-align: right;\">\n",
       "      <th></th>\n",
       "      <th>Unnamed: 0</th>\n",
       "      <th>Location</th>\n",
       "      <th>Year</th>\n",
       "      <th>Kilometers_Driven</th>\n",
       "      <th>Fuel_Type</th>\n",
       "      <th>Transmission</th>\n",
       "      <th>Owner_Type</th>\n",
       "      <th>Mileage</th>\n",
       "      <th>Engine</th>\n",
       "      <th>Power</th>\n",
       "      <th>Seats</th>\n",
       "      <th>Price</th>\n",
       "    </tr>\n",
       "  </thead>\n",
       "  <tbody>\n",
       "    <tr>\n",
       "      <th>3999</th>\n",
       "      <td>3999</td>\n",
       "      <td>Hyderabad</td>\n",
       "      <td>2012</td>\n",
       "      <td>125000</td>\n",
       "      <td>Petrol</td>\n",
       "      <td>Automatic</td>\n",
       "      <td>First</td>\n",
       "      <td>10.5</td>\n",
       "      <td>3197.0</td>\n",
       "      <td>NaN</td>\n",
       "      <td>0.0</td>\n",
       "      <td>18.0</td>\n",
       "    </tr>\n",
       "  </tbody>\n",
       "</table>\n",
       "</div>"
      ],
      "text/plain": [
       "      Unnamed: 0   Location  Year  Kilometers_Driven Fuel_Type Transmission  \\\n",
       "3999        3999  Hyderabad  2012             125000    Petrol    Automatic   \n",
       "\n",
       "     Owner_Type  Mileage  Engine  Power  Seats  Price  \n",
       "3999      First     10.5  3197.0    NaN    0.0   18.0  "
      ]
     },
     "execution_count": 15,
     "metadata": {},
     "output_type": "execute_result"
    }
   ],
   "source": [
    "data[ data['Seats'] == data['Seats'].min() ]"
   ]
  },
  {
   "cell_type": "markdown",
   "metadata": {},
   "source": [
    "There is only one sample of the data with the number of seats to be zero which is an anomaly."
   ]
  },
  {
   "cell_type": "code",
   "execution_count": 16,
   "metadata": {},
   "outputs": [],
   "source": [
    "idx = data[ data['Seats'] == data['Seats'].min() ].index\n",
    "data = data.drop(index = idx)"
   ]
  },
  {
   "cell_type": "markdown",
   "metadata": {},
   "source": [
    "Dropping all the samples with a mileage if 0"
   ]
  },
  {
   "cell_type": "code",
   "execution_count": 17,
   "metadata": {},
   "outputs": [
    {
     "data": {
      "text/plain": [
       "68"
      ]
     },
     "execution_count": 17,
     "metadata": {},
     "output_type": "execute_result"
    }
   ],
   "source": [
    "len(data[ data['Mileage'] == data['Mileage'].min() ])"
   ]
  },
  {
   "cell_type": "markdown",
   "metadata": {},
   "source": [
    "There are 68 samples with a mileage of 0  "
   ]
  },
  {
   "cell_type": "code",
   "execution_count": 18,
   "metadata": {},
   "outputs": [],
   "source": [
    "idx = data[ data['Mileage'] == data['Mileage'].min() ].index\n",
    "data = data.drop(index = idx)"
   ]
  },
  {
   "cell_type": "markdown",
   "metadata": {},
   "source": [
    "One Hot encoding the data so as to convert the categorical data into numerical data that can be  used by the machine learning algorithm. Using the pandas pd.get_dummies()  "
   ]
  },
  {
   "cell_type": "code",
   "execution_count": 19,
   "metadata": {},
   "outputs": [],
   "source": [
    "data = pd.get_dummies(data, drop_first=True)"
   ]
  },
  {
   "cell_type": "markdown",
   "metadata": {},
   "source": [
    "Since it is supervised learning task, it involves both the dependent and the independent variable, so the data will be divived into dependent and independent variable and also into the train and test split"
   ]
  },
  {
   "cell_type": "code",
   "execution_count": 20,
   "metadata": {},
   "outputs": [],
   "source": [
    "X =  data.drop(columns='Price')\n",
    "Xcols = X.columns"
   ]
  },
  {
   "cell_type": "code",
   "execution_count": 21,
   "metadata": {},
   "outputs": [],
   "source": [
    "y = data['Price']"
   ]
  },
  {
   "cell_type": "code",
   "execution_count": 22,
   "metadata": {},
   "outputs": [],
   "source": [
    "X_train, X_test, y_train, y_test = train_test_split(X,y,test_size=.3, random_state=4)"
   ]
  },
  {
   "cell_type": "code",
   "execution_count": 23,
   "metadata": {},
   "outputs": [
    {
     "data": {
      "text/plain": [
       "((4165, 25), (1785, 25))"
      ]
     },
     "execution_count": 23,
     "metadata": {},
     "output_type": "execute_result"
    }
   ],
   "source": [
    "X_train.shape, X_test.shape"
   ]
  },
  {
   "cell_type": "code",
   "execution_count": 24,
   "metadata": {},
   "outputs": [
    {
     "data": {
      "text/plain": [
       "((4165,), (1785,))"
      ]
     },
     "execution_count": 24,
     "metadata": {},
     "output_type": "execute_result"
    }
   ],
   "source": [
    "y_train.shape, y_test.shape"
   ]
  },
  {
   "cell_type": "markdown",
   "metadata": {},
   "source": [
    "Filling out the null values using the KNNImputer, "
   ]
  },
  {
   "cell_type": "code",
   "execution_count": 25,
   "metadata": {},
   "outputs": [],
   "source": [
    "imputer = KNNImputer()\n",
    "X_train = imputer.fit_transform(X_train,y_train )\n",
    "X_test = imputer.fit_transform(X_test, y_test)"
   ]
  },
  {
   "cell_type": "markdown",
   "metadata": {},
   "source": [
    "Confirming that there are no longer null values present in the dataset."
   ]
  },
  {
   "cell_type": "code",
   "execution_count": 26,
   "metadata": {},
   "outputs": [
    {
     "data": {
      "text/plain": [
       "Unnamed: 0                   0\n",
       "Year                         0\n",
       "Kilometers_Driven            0\n",
       "Mileage                      0\n",
       "Engine                       0\n",
       "Power                        0\n",
       "Seats                        0\n",
       "Location_Bangalore           0\n",
       "Location_Chennai             0\n",
       "Location_Coimbatore          0\n",
       "Location_Delhi               0\n",
       "Location_Hyderabad           0\n",
       "Location_Jaipur              0\n",
       "Location_Kochi               0\n",
       "Location_Kolkata             0\n",
       "Location_Mumbai              0\n",
       "Location_Pune                0\n",
       "Fuel_Type_Diesel             0\n",
       "Fuel_Type_Electric           0\n",
       "Fuel_Type_LPG                0\n",
       "Fuel_Type_Petrol             0\n",
       "Transmission_Manual          0\n",
       "Owner_Type_Fourth & Above    0\n",
       "Owner_Type_Second            0\n",
       "Owner_Type_Third             0\n",
       "dtype: int64"
      ]
     },
     "execution_count": 26,
     "metadata": {},
     "output_type": "execute_result"
    }
   ],
   "source": [
    "X_check = pd.DataFrame(X_train, columns = Xcols)\n",
    "X_check.isnull().sum()"
   ]
  },
  {
   "cell_type": "code",
   "execution_count": 27,
   "metadata": {},
   "outputs": [
    {
     "data": {
      "text/plain": [
       "Unnamed: 0                   0\n",
       "Year                         0\n",
       "Kilometers_Driven            0\n",
       "Mileage                      0\n",
       "Engine                       0\n",
       "Power                        0\n",
       "Seats                        0\n",
       "Location_Bangalore           0\n",
       "Location_Chennai             0\n",
       "Location_Coimbatore          0\n",
       "Location_Delhi               0\n",
       "Location_Hyderabad           0\n",
       "Location_Jaipur              0\n",
       "Location_Kochi               0\n",
       "Location_Kolkata             0\n",
       "Location_Mumbai              0\n",
       "Location_Pune                0\n",
       "Fuel_Type_Diesel             0\n",
       "Fuel_Type_Electric           0\n",
       "Fuel_Type_LPG                0\n",
       "Fuel_Type_Petrol             0\n",
       "Transmission_Manual          0\n",
       "Owner_Type_Fourth & Above    0\n",
       "Owner_Type_Second            0\n",
       "Owner_Type_Third             0\n",
       "dtype: int64"
      ]
     },
     "execution_count": 27,
     "metadata": {},
     "output_type": "execute_result"
    }
   ],
   "source": [
    "X_check = pd.DataFrame(X_test, columns = Xcols)\n",
    "X_check.isnull().sum()"
   ]
  },
  {
   "cell_type": "markdown",
   "metadata": {},
   "source": [
    "From the above, it has been confirmed that there are no null values present in the data again."
   ]
  },
  {
   "cell_type": "markdown",
   "metadata": {},
   "source": [
    "Checking for the distribution of the years of the cars "
   ]
  },
  {
   "cell_type": "code",
   "execution_count": 29,
   "metadata": {},
   "outputs": [
    {
     "data": {
      "image/png": "[encoded data removed]",
      "text/plain": [
       "<Figure size 432x288 with 1 Axes>"
      ]
     },
     "metadata": {
      "needs_background": "light"
     },
     "output_type": "display_data"
    }
   ],
   "source": [
    "data_['Year'].value_counts().plot(kind='bar')\n",
    "plt.show()"
   ]
  },
  {
   "cell_type": "markdown",
   "metadata": {},
   "source": [
    "There is a gradual progression of the years of the car, as the years progress the frequency of the cars increases"
   ]
  },
  {
   "cell_type": "markdown",
   "metadata": {},
   "source": [
    "Checking the distributions of the Locations of the cars"
   ]
  },
  {
   "cell_type": "code",
   "execution_count": 35,
   "metadata": {},
   "outputs": [
    {
     "data": {
      "image/png": "[encoded data removed]",
      "text/plain": [
       "<Figure size 432x288 with 1 Axes>"
      ]
     },
     "metadata": {
      "needs_background": "light"
     },
     "output_type": "display_data"
    }
   ],
   "source": [
    "data_['Location'].value_counts().plot(kind = 'bar')\n",
    "plt.show()"
   ]
  },
  {
   "cell_type": "markdown",
   "metadata": {},
   "source": [
    "From the above, Mumbai has the largest number of cars while Ahmedabad has the least"
   ]
  },
  {
   "cell_type": "markdown",
   "metadata": {},
   "source": [
    "Checking for the distributions of the Transmission Type"
   ]
  },
  {
   "cell_type": "code",
   "execution_count": 40,
   "metadata": {},
   "outputs": [
    {
     "data": {
      "image/png": "[encoded data removed]",
      "text/plain": [
       "<Figure size 360x216 with 1 Axes>"
      ]
     },
     "metadata": {
      "needs_background": "light"
     },
     "output_type": "display_data"
    }
   ],
   "source": [
    "plt.figure(figsize=(5,3))\n",
    "data_['Transmission'].value_counts().plot(kind = 'bar')\n",
    "plt.show()"
   ]
  },
  {
   "cell_type": "markdown",
   "metadata": {},
   "source": [
    "From the above, it is observed that cars with Manual transmission are more than the those with automatic transmission\n"
   ]
  },
  {
   "cell_type": "markdown",
   "metadata": {},
   "source": [
    "Checking for the state with the highest price of car"
   ]
  },
  {
   "cell_type": "code",
   "execution_count": 47,
   "metadata": {},
   "outputs": [
    {
     "data": {
      "text/plain": [
       "4079    Hyderabad\n",
       "Name: Location, dtype: object"
      ]
     },
     "execution_count": 47,
     "metadata": {},
     "output_type": "execute_result"
    }
   ],
   "source": [
    "data_[ data_['Price'] == data_['Price'].max() ]['Location']"
   ]
  },
  {
   "cell_type": "markdown",
   "metadata": {},
   "source": [
    "Hyderabad is the state with the most expensive car"
   ]
  },
  {
   "cell_type": "markdown",
   "metadata": {},
   "source": [
    "Scaling the data using the standard scaler from sklearn "
   ]
  },
  {
   "cell_type": "code",
   "execution_count": 61,
   "metadata": {},
   "outputs": [],
   "source": [
    "scaler = StandardScaler()\n",
    "X_train = scaler.fit_transform(X_train)\n",
    "X_test = scaler.fit_transform(X_test)"
   ]
  },
  {
   "cell_type": "markdown",
   "metadata": {},
   "source": [
    "Setting up the algorithms  to be used to create the model."
   ]
  },
  {
   "cell_type": "code",
   "execution_count": 64,
   "metadata": {},
   "outputs": [],
   "source": [
    "algorithms = {\n",
    "    \n",
    "    'Linear Regression' : {\n",
    "        'Model' : LinearRegression(),\n",
    "        'Params' : {\n",
    "            'normalize' : [True, False]\n",
    "        }\n",
    "    }, \n",
    "    \n",
    "    'Lasso' : {\n",
    "        'Model': Lasso(),\n",
    "        'Params' : {\n",
    "            'alpha' : [i for i in range(1,6)],\n",
    "            'normalize' : [True, False]\n",
    "        }\n",
    "    }, \n",
    "    \n",
    "    'Ridge' : {\n",
    "        'Model': Ridge(),\n",
    "        'Params' : {\n",
    "            'alpha' : [i for i in range(1,6)],\n",
    "            'normalize' : [True, False]\n",
    "        }\n",
    "    }, \n",
    "    \n",
    "    'SVR' : {\n",
    "        'Model': SVR(),\n",
    "        'Params' : {\n",
    "            'kernel' : ['poly', 'linear', 'rbf', 'sigmoid' ],\n",
    "            'degree' : [i for i in range(1,6)],\n",
    "        }\n",
    "    }, \n",
    "    \n",
    "    'Decision Tree Regressor' : {\n",
    "        'Model': DecisionTreeRegressor(),\n",
    "        'Params' : {\n",
    "            \n",
    "            'criterion' : [\"mse\", \"mae\" ]\n",
    "        }\n",
    "    }, \n",
    "    \n",
    "    'Random Forest Regressor' : {\n",
    "        'Model': RandomForestRegressor(),\n",
    "        'Params' : {\n",
    "            'n_estimators' : [i for i in range(50, 300, 50)],\n",
    "            'criterion' : [\"mse\", \"mae\" ]\n",
    "        }\n",
    "    }, \n",
    "    \n",
    "    'Extra Trees Regressor' : {\n",
    "        'Model': ExtraTreesRegressor(),\n",
    "        'Params' : {\n",
    "            'n_estimators' : [i for i in range(50, 300, 50)],\n",
    "            'criterion' : [\"mse\", \"mae\" ]\n",
    "        }\n",
    "    }, \n",
    "    \n",
    "}"
   ]
  },
  {
   "cell_type": "code",
   "execution_count": 67,
   "metadata": {},
   "outputs": [
    {
     "name": "stdout",
     "output_type": "stream",
     "text": [
      "Fitting 5 folds for each of 2 candidates, totalling 10 fits\n",
      "[CV] normalize=True ..................................................\n",
      "[CV] ...................... normalize=True, score=0.754, total=   0.0s\n",
      "[CV] normalize=True ..................................................\n",
      "[CV] ...................... normalize=True, score=0.717, total=   0.0s\n",
      "[CV] normalize=True ..................................................\n",
      "[CV] ...................... normalize=True, score=0.745, total=   0.0s\n",
      "[CV] normalize=True ..................................................\n",
      "[CV] ...................... normalize=True, score=0.726, total=   0.0s\n",
      "[CV] normalize=True ..................................................\n",
      "[CV] ...................... normalize=True, score=0.584, total=   0.0s\n",
      "[CV] normalize=False .................................................\n",
      "[CV] ..................... normalize=False, score=0.754, total=   0.0s\n",
      "[CV] normalize=False .................................................\n",
      "[CV] ..................... normalize=False, score=0.717, total=   0.0s\n",
      "[CV] normalize=False .................................................\n",
      "[CV] ..................... normalize=False, score=0.745, total=   0.0s\n",
      "[CV] normalize=False .................................................\n",
      "[CV] ..................... normalize=False, score=0.726, total=   0.0s\n",
      "[CV] normalize=False .................................................\n",
      "[CV] ..................... normalize=False, score=0.559, total=   0.0s\n",
      "Fitting 5 folds for each of 10 candidates, totalling 50 fits\n",
      "[CV] alpha=1, normalize=True .........................................\n",
      "[CV] ............ alpha=1, normalize=True, score=-0.000, total=   0.0s\n",
      "[CV] alpha=1, normalize=True .........................................\n",
      "[CV] ............ alpha=1, normalize=True, score=-0.010, total=   0.0s\n",
      "[CV] alpha=1, normalize=True .........................................\n",
      "[CV] ............ alpha=1, normalize=True, score=-0.002, total=   0.0s\n",
      "[CV] alpha=1, normalize=True .........................................\n",
      "[CV] ............ alpha=1, normalize=True, score=-0.001, total=   0.0s\n",
      "[CV] alpha=1, normalize=True .........................................\n",
      "[CV] ............ alpha=1, normalize=True, score=-0.000, total=   0.0s\n",
      "[CV] alpha=1, normalize=False ........................................\n",
      "[CV] ............ alpha=1, normalize=False, score=0.705, total=   0.0s\n",
      "[CV] alpha=1, normalize=False ........................................\n",
      "[CV] ............ alpha=1, normalize=False, score=0.715, total=   0.0s"
     ]
    },
    {
     "name": "stderr",
     "output_type": "stream",
     "text": [
      "[Parallel(n_jobs=1)]: Using backend SequentialBackend with 1 concurrent workers.\n",
      "[Parallel(n_jobs=1)]: Done   1 out of   1 | elapsed:    0.0s remaining:    0.0s\n",
      "[Parallel(n_jobs=1)]: Done   2 out of   2 | elapsed:    0.0s remaining:    0.0s\n",
      "[Parallel(n_jobs=1)]: Done   3 out of   3 | elapsed:    0.0s remaining:    0.0s\n",
      "[Parallel(n_jobs=1)]: Done   4 out of   4 | elapsed:    0.0s remaining:    0.0s\n",
      "[Parallel(n_jobs=1)]: Done   5 out of   5 | elapsed:    0.0s remaining:    0.0s\n",
      "[Parallel(n_jobs=1)]: Done   6 out of   6 | elapsed:    0.0s remaining:    0.0s\n",
      "[Parallel(n_jobs=1)]: Done   7 out of   7 | elapsed:    0.0s remaining:    0.0s\n",
      "[Parallel(n_jobs=1)]: Done   8 out of   8 | elapsed:    0.0s remaining:    0.0s\n",
      "[Parallel(n_jobs=1)]: Done   9 out of   9 | elapsed:    0.0s remaining:    0.0s\n",
      "[Parallel(n_jobs=1)]: Done  10 out of  10 | elapsed:    0.0s finished\n",
      "[Parallel(n_jobs=1)]: Using backend SequentialBackend with 1 concurrent workers.\n",
      "[Parallel(n_jobs=1)]: Done   1 out of   1 | elapsed:    0.0s remaining:    0.0s\n",
      "[Parallel(n_jobs=1)]: Done   2 out of   2 | elapsed:    0.0s remaining:    0.0s\n",
      "[Parallel(n_jobs=1)]: Done   3 out of   3 | elapsed:    0.0s remaining:    0.0s\n",
      "[Parallel(n_jobs=1)]: Done   4 out of   4 | elapsed:    0.0s remaining:    0.0s\n",
      "[Parallel(n_jobs=1)]: Done   5 out of   5 | elapsed:    0.0s remaining:    0.0s\n",
      "[Parallel(n_jobs=1)]: Done   6 out of   6 | elapsed:    0.0s remaining:    0.0s\n"
     ]
    },
    {
     "name": "stdout",
     "output_type": "stream",
     "text": [
      "\n",
      "[CV] alpha=1, normalize=False ........................................\n",
      "[CV] ............ alpha=1, normalize=False, score=0.710, total=   0.0s\n",
      "[CV] alpha=1, normalize=False ........................................\n",
      "[CV] ............ alpha=1, normalize=False, score=0.672, total=   0.0s\n",
      "[CV] alpha=1, normalize=False ........................................\n",
      "[CV] ............ alpha=1, normalize=False, score=0.593, total=   0.0s\n",
      "[CV] alpha=2, normalize=True .........................................\n",
      "[CV] ............ alpha=2, normalize=True, score=-0.000, total=   0.0s\n",
      "[CV] alpha=2, normalize=True .........................................\n",
      "[CV] ............ alpha=2, normalize=True, score=-0.010, total=   0.0s\n",
      "[CV] alpha=2, normalize=True .........................................\n",
      "[CV] ............ alpha=2, normalize=True, score=-0.002, total=   0.0s\n",
      "[CV] alpha=2, normalize=True .........................................\n",
      "[CV] ............ alpha=2, normalize=True, score=-0.001, total=   0.0s\n",
      "[CV] alpha=2, normalize=True .........................................\n",
      "[CV] ............ alpha=2, normalize=True, score=-0.000, total=   0.0s\n",
      "[CV] alpha=2, normalize=False ........................................\n",
      "[CV] ............ alpha=2, normalize=False, score=0.646, total=   0.0s\n",
      "[CV] alpha=2, normalize=False ........................................\n",
      "[CV] ............ alpha=2, normalize=False, score=0.682, total=   0.0s\n",
      "[CV] alpha=2, normalize=False ........................................\n",
      "[CV] ............ alpha=2, normalize=False, score=0.651, total=   0.0s\n",
      "[CV] alpha=2, normalize=False ........................................\n",
      "[CV] ............ alpha=2, normalize=False, score=0.610, total=   0.0s\n",
      "[CV] alpha=2, normalize=False ........................................\n",
      "[CV] ............ alpha=2, normalize=False, score=0.539, total=   0.0s\n",
      "[CV] alpha=3, normalize=True .........................................\n",
      "[CV] ............ alpha=3, normalize=True, score=-0.000, total=   0.0s\n",
      "[CV] alpha=3, normalize=True .........................................\n",
      "[CV] ............ alpha=3, normalize=True, score=-0.010, total=   0.0s\n",
      "[CV] alpha=3, normalize=True .........................................\n",
      "[CV] ............ alpha=3, normalize=True, score=-0.002, total=   0.0s\n",
      "[CV] alpha=3, normalize=True .........................................\n",
      "[CV] ............ alpha=3, normalize=True, score=-0.001, total=   0.0s\n",
      "[CV] alpha=3, normalize=True .........................................\n",
      "[CV] ............ alpha=3, normalize=True, score=-0.000, total=   0.0s\n",
      "[CV] alpha=3, normalize=False ........................................\n",
      "[CV] ............ alpha=3, normalize=False, score=0.557, total=   0.0s\n",
      "[CV] alpha=3, normalize=False ........................................\n",
      "[CV] ............ alpha=3, normalize=False, score=0.604, total=   0.0s\n",
      "[CV] alpha=3, normalize=False ........................................\n",
      "[CV] ............ alpha=3, normalize=False, score=0.562, total=   0.0s"
     ]
    },
    {
     "name": "stderr",
     "output_type": "stream",
     "text": [
      "[Parallel(n_jobs=1)]: Done   7 out of   7 | elapsed:    0.0s remaining:    0.0s\n",
      "[Parallel(n_jobs=1)]: Done   8 out of   8 | elapsed:    0.0s remaining:    0.0s\n",
      "[Parallel(n_jobs=1)]: Done   9 out of   9 | elapsed:    0.0s remaining:    0.0s\n"
     ]
    },
    {
     "name": "stdout",
     "output_type": "stream",
     "text": [
      "\n",
      "[CV] alpha=3, normalize=False ........................................\n",
      "[CV] ............ alpha=3, normalize=False, score=0.520, total=   0.0s\n",
      "[CV] alpha=3, normalize=False ........................................\n",
      "[CV] ............ alpha=3, normalize=False, score=0.464, total=   0.0s\n",
      "[CV] alpha=4, normalize=True .........................................\n",
      "[CV] ............ alpha=4, normalize=True, score=-0.000, total=   0.0s\n",
      "[CV] alpha=4, normalize=True .........................................\n",
      "[CV] ............ alpha=4, normalize=True, score=-0.010, total=   0.0s\n",
      "[CV] alpha=4, normalize=True .........................................\n",
      "[CV] ............ alpha=4, normalize=True, score=-0.002, total=   0.0s\n",
      "[CV] alpha=4, normalize=True .........................................\n",
      "[CV] ............ alpha=4, normalize=True, score=-0.001, total=   0.0s\n",
      "[CV] alpha=4, normalize=True .........................................\n",
      "[CV] ............ alpha=4, normalize=True, score=-0.000, total=   0.0s\n",
      "[CV] alpha=4, normalize=False ........................................\n",
      "[CV] ............ alpha=4, normalize=False, score=0.491, total=   0.0s\n",
      "[CV] alpha=4, normalize=False ........................................\n",
      "[CV] ............ alpha=4, normalize=False, score=0.536, total=   0.0s\n",
      "[CV] alpha=4, normalize=False ........................................\n",
      "[CV] ............ alpha=4, normalize=False, score=0.485, total=   0.0s\n",
      "[CV] alpha=4, normalize=False ........................................\n",
      "[CV] ............ alpha=4, normalize=False, score=0.450, total=   0.0s\n",
      "[CV] alpha=4, normalize=False ........................................\n",
      "[CV] ............ alpha=4, normalize=False, score=0.399, total=   0.0s\n",
      "[CV] alpha=5, normalize=True .........................................\n",
      "[CV] ............ alpha=5, normalize=True, score=-0.000, total=   0.0s\n",
      "[CV] alpha=5, normalize=True .........................................\n",
      "[CV] ............ alpha=5, normalize=True, score=-0.010, total=   0.0s\n",
      "[CV] alpha=5, normalize=True .........................................\n",
      "[CV] ............ alpha=5, normalize=True, score=-0.002, total=   0.0s\n",
      "[CV] alpha=5, normalize=True .........................................\n",
      "[CV] ............ alpha=5, normalize=True, score=-0.001, total=   0.0s\n",
      "[CV] alpha=5, normalize=True .........................................\n",
      "[CV] ............ alpha=5, normalize=True, score=-0.000, total=   0.0s\n",
      "[CV] alpha=5, normalize=False ........................................\n",
      "[CV] ............ alpha=5, normalize=False, score=0.419, total=   0.0s\n",
      "[CV] alpha=5, normalize=False ........................................\n",
      "[CV] ............ alpha=5, normalize=False, score=0.466, total=   0.0s\n",
      "[CV] alpha=5, normalize=False ........................................\n",
      "[CV] ............ alpha=5, normalize=False, score=0.398, total=   0.0s\n",
      "[CV] alpha=5, normalize=False ........................................\n",
      "[CV] ............ alpha=5, normalize=False, score=0.373, total=   0.0s\n",
      "[CV] alpha=5, normalize=False ........................................\n",
      "[CV] ............ alpha=5, normalize=False, score=0.330, total=   0.0s\n",
      "Fitting 5 folds for each of 10 candidates, totalling 50 fits\n",
      "[CV] alpha=1, normalize=True .........................................\n",
      "[CV] ............. alpha=1, normalize=True, score=0.685, total=   0.0s"
     ]
    },
    {
     "name": "stderr",
     "output_type": "stream",
     "text": [
      "[Parallel(n_jobs=1)]: Done  50 out of  50 | elapsed:    0.3s finished\n",
      "[Parallel(n_jobs=1)]: Using backend SequentialBackend with 1 concurrent workers.\n",
      "[Parallel(n_jobs=1)]: Done   1 out of   1 | elapsed:    0.0s remaining:    0.0s\n",
      "[Parallel(n_jobs=1)]: Done   2 out of   2 | elapsed:    0.0s remaining:    0.0s\n",
      "[Parallel(n_jobs=1)]: Done   3 out of   3 | elapsed:    0.0s remaining:    0.0s\n",
      "[Parallel(n_jobs=1)]: Done   4 out of   4 | elapsed:    0.0s remaining:    0.0s\n",
      "[Parallel(n_jobs=1)]: Done   5 out of   5 | elapsed:    0.0s remaining:    0.0s\n",
      "[Parallel(n_jobs=1)]: Done   6 out of   6 | elapsed:    0.0s remaining:    0.0s\n",
      "[Parallel(n_jobs=1)]: Done   7 out of   7 | elapsed:    0.0s remaining:    0.0s\n",
      "[Parallel(n_jobs=1)]: Done   8 out of   8 | elapsed:    0.0s remaining:    0.0s\n",
      "[Parallel(n_jobs=1)]: Done   9 out of   9 | elapsed:    0.0s remaining:    0.0s\n"
     ]
    },
    {
     "name": "stdout",
     "output_type": "stream",
     "text": [
      "\n",
      "[CV] alpha=1, normalize=True .........................................\n",
      "[CV] ............. alpha=1, normalize=True, score=0.689, total=   0.0s\n",
      "[CV] alpha=1, normalize=True .........................................\n",
      "[CV] ............. alpha=1, normalize=True, score=0.657, total=   0.0s\n",
      "[CV] alpha=1, normalize=True .........................................\n",
      "[CV] ............. alpha=1, normalize=True, score=0.621, total=   0.0s\n",
      "[CV] alpha=1, normalize=True .........................................\n",
      "[CV] ............. alpha=1, normalize=True, score=0.547, total=   0.0s\n",
      "[CV] alpha=1, normalize=False ........................................\n",
      "[CV] ............ alpha=1, normalize=False, score=0.754, total=   0.0s\n",
      "[CV] alpha=1, normalize=False ........................................\n",
      "[CV] ............ alpha=1, normalize=False, score=0.717, total=   0.0s\n",
      "[CV] alpha=1, normalize=False ........................................\n",
      "[CV] ............ alpha=1, normalize=False, score=0.745, total=   0.0s\n",
      "[CV] alpha=1, normalize=False ........................................\n",
      "[CV] ............ alpha=1, normalize=False, score=0.726, total=   0.0s\n",
      "[CV] alpha=1, normalize=False ........................................\n",
      "[CV] ............ alpha=1, normalize=False, score=0.630, total=   0.0s\n",
      "[CV] alpha=2, normalize=True .........................................\n",
      "[CV] ............. alpha=2, normalize=True, score=0.602, total=   0.0s\n",
      "[CV] alpha=2, normalize=True .........................................\n",
      "[CV] ............. alpha=2, normalize=True, score=0.623, total=   0.0s\n",
      "[CV] alpha=2, normalize=True .........................................\n",
      "[CV] ............. alpha=2, normalize=True, score=0.571, total=   0.0s\n",
      "[CV] alpha=2, normalize=True .........................................\n",
      "[CV] ............. alpha=2, normalize=True, score=0.536, total=   0.0s\n",
      "[CV] alpha=2, normalize=True .........................................\n",
      "[CV] ............. alpha=2, normalize=True, score=0.479, total=   0.0s\n",
      "[CV] alpha=2, normalize=False ........................................\n",
      "[CV] ............ alpha=2, normalize=False, score=0.754, total=   0.0s\n",
      "[CV] alpha=2, normalize=False ........................................\n",
      "[CV] ............ alpha=2, normalize=False, score=0.717, total=   0.0s\n",
      "[CV] alpha=2, normalize=False ........................................\n",
      "[CV] ............ alpha=2, normalize=False, score=0.745, total=   0.0s\n",
      "[CV] alpha=2, normalize=False ........................................\n",
      "[CV] ............ alpha=2, normalize=False, score=0.726, total=   0.0s\n",
      "[CV] alpha=2, normalize=False ........................................\n",
      "[CV] ............ alpha=2, normalize=False, score=0.630, total=   0.0s\n",
      "[CV] alpha=3, normalize=True .........................................\n",
      "[CV] ............. alpha=3, normalize=True, score=0.531, total=   0.0s\n",
      "[CV] alpha=3, normalize=True .........................................\n",
      "[CV] ............. alpha=3, normalize=True, score=0.559, total=   0.0s\n",
      "[CV] alpha=3, normalize=True .........................................\n",
      "[CV] ............. alpha=3, normalize=True, score=0.501, total=   0.0s\n",
      "[CV] alpha=3, normalize=True .........................................\n",
      "[CV] ............. alpha=3, normalize=True, score=0.470, total=   0.0s\n",
      "[CV] alpha=3, normalize=True .........................................\n",
      "[CV] ............. alpha=3, normalize=True, score=0.421, total=   0.0s\n",
      "[CV] alpha=3, normalize=False ........................................\n",
      "[CV] ............ alpha=3, normalize=False, score=0.754, total=   0.0s\n",
      "[CV] alpha=3, normalize=False ........................................\n",
      "[CV] ............ alpha=3, normalize=False, score=0.717, total=   0.0s\n",
      "[CV] alpha=3, normalize=False ........................................\n",
      "[CV] ............ alpha=3, normalize=False, score=0.745, total=   0.0s\n",
      "[CV] alpha=3, normalize=False ........................................\n",
      "[CV] ............ alpha=3, normalize=False, score=0.726, total=   0.0s\n",
      "[CV] alpha=3, normalize=False ........................................\n",
      "[CV] ............ alpha=3, normalize=False, score=0.630, total=   0.0s\n",
      "[CV] alpha=4, normalize=True .........................................\n",
      "[CV] ............. alpha=4, normalize=True, score=0.474, total=   0.0s\n",
      "[CV] alpha=4, normalize=True .........................................\n",
      "[CV] ............. alpha=4, normalize=True, score=0.503, total=   0.0s\n",
      "[CV] alpha=4, normalize=True .........................................\n",
      "[CV] ............. alpha=4, normalize=True, score=0.445, total=   0.0s\n",
      "[CV] alpha=4, normalize=True .........................................\n",
      "[CV] ............. alpha=4, normalize=True, score=0.417, total=   0.0s\n",
      "[CV] alpha=4, normalize=True .........................................\n",
      "[CV] ............. alpha=4, normalize=True, score=0.374, total=   0.0s\n",
      "[CV] alpha=4, normalize=False ........................................\n",
      "[CV] ............ alpha=4, normalize=False, score=0.754, total=   0.0s\n",
      "[CV] alpha=4, normalize=False ........................................\n",
      "[CV] ............ alpha=4, normalize=False, score=0.717, total=   0.0s\n",
      "[CV] alpha=4, normalize=False ........................................\n",
      "[CV] ............ alpha=4, normalize=False, score=0.745, total=   0.0s\n",
      "[CV] alpha=4, normalize=False ........................................\n",
      "[CV] ............ alpha=4, normalize=False, score=0.726, total=   0.0s\n",
      "[CV] alpha=4, normalize=False ........................................\n",
      "[CV] ............ alpha=4, normalize=False, score=0.630, total=   0.0s\n",
      "[CV] alpha=5, normalize=True .........................................\n",
      "[CV] ............. alpha=5, normalize=True, score=0.428, total=   0.0s\n",
      "[CV] alpha=5, normalize=True .........................................\n",
      "[CV] ............. alpha=5, normalize=True, score=0.456, total=   0.0s\n",
      "[CV] alpha=5, normalize=True .........................................\n",
      "[CV] ............. alpha=5, normalize=True, score=0.400, total=   0.0s\n",
      "[CV] alpha=5, normalize=True .........................................\n",
      "[CV] ............. alpha=5, normalize=True, score=0.374, total=   0.0s\n",
      "[CV] alpha=5, normalize=True .........................................\n",
      "[CV] ............. alpha=5, normalize=True, score=0.336, total=   0.0s\n",
      "[CV] alpha=5, normalize=False ........................................\n",
      "[CV] ............ alpha=5, normalize=False, score=0.754, total=   0.0s\n",
      "[CV] alpha=5, normalize=False ........................................\n",
      "[CV] ............ alpha=5, normalize=False, score=0.717, total=   0.0s\n",
      "[CV] alpha=5, normalize=False ........................................\n",
      "[CV] ............ alpha=5, normalize=False, score=0.745, total=   0.0s\n",
      "[CV] alpha=5, normalize=False ........................................\n",
      "[CV] ............ alpha=5, normalize=False, score=0.726, total=   0.0s\n",
      "[CV] alpha=5, normalize=False ........................................\n",
      "[CV] ............ alpha=5, normalize=False, score=0.630, total=   0.0s\n",
      "Fitting 5 folds for each of 20 candidates, totalling 100 fits\n",
      "[CV] degree=1, kernel=poly ...........................................\n"
     ]
    },
    {
     "name": "stderr",
     "output_type": "stream",
     "text": [
      "[Parallel(n_jobs=1)]: Done  50 out of  50 | elapsed:    0.3s finished\n",
      "[Parallel(n_jobs=1)]: Using backend SequentialBackend with 1 concurrent workers.\n"
     ]
    },
    {
     "name": "stdout",
     "output_type": "stream",
     "text": [
      "[CV] ............... degree=1, kernel=poly, score=0.667, total=   1.0s\n",
      "[CV] degree=1, kernel=poly ...........................................\n"
     ]
    },
    {
     "name": "stderr",
     "output_type": "stream",
     "text": [
      "[Parallel(n_jobs=1)]: Done   1 out of   1 | elapsed:    0.9s remaining:    0.0s\n"
     ]
    },
    {
     "name": "stdout",
     "output_type": "stream",
     "text": [
      "[CV] ............... degree=1, kernel=poly, score=0.705, total=   0.9s\n",
      "[CV] degree=1, kernel=poly ...........................................\n"
     ]
    },
    {
     "name": "stderr",
     "output_type": "stream",
     "text": [
      "[Parallel(n_jobs=1)]: Done   2 out of   2 | elapsed:    1.8s remaining:    0.0s\n"
     ]
    },
    {
     "name": "stdout",
     "output_type": "stream",
     "text": [
      "[CV] ............... degree=1, kernel=poly, score=0.664, total=   0.9s\n",
      "[CV] degree=1, kernel=poly ...........................................\n"
     ]
    },
    {
     "name": "stderr",
     "output_type": "stream",
     "text": [
      "[Parallel(n_jobs=1)]: Done   3 out of   3 | elapsed:    2.7s remaining:    0.0s\n"
     ]
    },
    {
     "name": "stdout",
     "output_type": "stream",
     "text": [
      "[CV] ............... degree=1, kernel=poly, score=0.615, total=   0.9s\n",
      "[CV] degree=1, kernel=poly ...........................................\n"
     ]
    },
    {
     "name": "stderr",
     "output_type": "stream",
     "text": [
      "[Parallel(n_jobs=1)]: Done   4 out of   4 | elapsed:    3.7s remaining:    0.0s\n"
     ]
    },
    {
     "name": "stdout",
     "output_type": "stream",
     "text": [
      "[CV] ............... degree=1, kernel=poly, score=0.555, total=   0.9s\n",
      "[CV] degree=1, kernel=linear .........................................\n"
     ]
    },
    {
     "name": "stderr",
     "output_type": "stream",
     "text": [
      "[Parallel(n_jobs=1)]: Done   5 out of   5 | elapsed:    4.6s remaining:    0.0s\n"
     ]
    },
    {
     "name": "stdout",
     "output_type": "stream",
     "text": [
      "[CV] ............. degree=1, kernel=linear, score=0.681, total=   1.6s\n",
      "[CV] degree=1, kernel=linear .........................................\n"
     ]
    },
    {
     "name": "stderr",
     "output_type": "stream",
     "text": [
      "[Parallel(n_jobs=1)]: Done   6 out of   6 | elapsed:    6.1s remaining:    0.0s\n"
     ]
    },
    {
     "name": "stdout",
     "output_type": "stream",
     "text": [
      "[CV] ............. degree=1, kernel=linear, score=0.719, total=   1.9s\n",
      "[CV] degree=1, kernel=linear .........................................\n"
     ]
    },
    {
     "name": "stderr",
     "output_type": "stream",
     "text": [
      "[Parallel(n_jobs=1)]: Done   7 out of   7 | elapsed:    8.0s remaining:    0.0s\n"
     ]
    },
    {
     "name": "stdout",
     "output_type": "stream",
     "text": [
      "[CV] ............. degree=1, kernel=linear, score=0.680, total=   1.6s\n",
      "[CV] degree=1, kernel=linear .........................................\n"
     ]
    },
    {
     "name": "stderr",
     "output_type": "stream",
     "text": [
      "[Parallel(n_jobs=1)]: Done   8 out of   8 | elapsed:    9.7s remaining:    0.0s\n"
     ]
    },
    {
     "name": "stdout",
     "output_type": "stream",
     "text": [
      "[CV] ............. degree=1, kernel=linear, score=0.629, total=   1.6s\n",
      "[CV] degree=1, kernel=linear .........................................\n"
     ]
    },
    {
     "name": "stderr",
     "output_type": "stream",
     "text": [
      "[Parallel(n_jobs=1)]: Done   9 out of   9 | elapsed:   11.3s remaining:    0.0s\n"
     ]
    },
    {
     "name": "stdout",
     "output_type": "stream",
     "text": [
      "[CV] ............. degree=1, kernel=linear, score=0.566, total=   1.7s\n",
      "[CV] degree=1, kernel=rbf ............................................\n",
      "[CV] ................ degree=1, kernel=rbf, score=0.801, total=   1.5s\n",
      "[CV] degree=1, kernel=rbf ............................................\n",
      "[CV] ................ degree=1, kernel=rbf, score=0.765, total=   1.4s\n",
      "[CV] degree=1, kernel=rbf ............................................\n",
      "[CV] ................ degree=1, kernel=rbf, score=0.719, total=   1.4s\n",
      "[CV] degree=1, kernel=rbf ............................................\n",
      "[CV] ................ degree=1, kernel=rbf, score=0.685, total=   1.4s\n",
      "[CV] degree=1, kernel=rbf ............................................\n",
      "[CV] ................ degree=1, kernel=rbf, score=0.603, total=   1.4s\n",
      "[CV] degree=1, kernel=sigmoid ........................................\n",
      "[CV] ............ degree=1, kernel=sigmoid, score=0.261, total=   1.5s\n",
      "[CV] degree=1, kernel=sigmoid ........................................\n",
      "[CV] ............ degree=1, kernel=sigmoid, score=0.084, total=   1.5s\n",
      "[CV] degree=1, kernel=sigmoid ........................................\n",
      "[CV] ............ degree=1, kernel=sigmoid, score=0.266, total=   1.6s\n",
      "[CV] degree=1, kernel=sigmoid ........................................\n",
      "[CV] ............ degree=1, kernel=sigmoid, score=0.212, total=   1.7s\n",
      "[CV] degree=1, kernel=sigmoid ........................................\n",
      "[CV] ............ degree=1, kernel=sigmoid, score=0.128, total=   1.6s\n",
      "[CV] degree=2, kernel=poly ...........................................\n",
      "[CV] ............... degree=2, kernel=poly, score=0.581, total=   1.1s\n",
      "[CV] degree=2, kernel=poly ...........................................\n",
      "[CV] ............... degree=2, kernel=poly, score=0.581, total=   1.0s\n",
      "[CV] degree=2, kernel=poly ...........................................\n",
      "[CV] ............... degree=2, kernel=poly, score=0.616, total=   1.0s\n",
      "[CV] degree=2, kernel=poly ...........................................\n",
      "[CV] ............... degree=2, kernel=poly, score=0.539, total=   1.3s\n",
      "[CV] degree=2, kernel=poly ...........................................\n",
      "[CV] ............... degree=2, kernel=poly, score=0.516, total=   1.2s\n",
      "[CV] degree=2, kernel=linear .........................................\n",
      "[CV] ............. degree=2, kernel=linear, score=0.681, total=   1.8s\n",
      "[CV] degree=2, kernel=linear .........................................\n",
      "[CV] ............. degree=2, kernel=linear, score=0.719, total=   1.6s\n",
      "[CV] degree=2, kernel=linear .........................................\n",
      "[CV] ............. degree=2, kernel=linear, score=0.680, total=   1.8s\n",
      "[CV] degree=2, kernel=linear .........................................\n",
      "[CV] ............. degree=2, kernel=linear, score=0.629, total=   1.6s\n",
      "[CV] degree=2, kernel=linear .........................................\n",
      "[CV] ............. degree=2, kernel=linear, score=0.566, total=   1.7s\n",
      "[CV] degree=2, kernel=rbf ............................................\n",
      "[CV] ................ degree=2, kernel=rbf, score=0.801, total=   1.4s\n",
      "[CV] degree=2, kernel=rbf ............................................\n",
      "[CV] ................ degree=2, kernel=rbf, score=0.765, total=   1.5s\n",
      "[CV] degree=2, kernel=rbf ............................................\n",
      "[CV] ................ degree=2, kernel=rbf, score=0.719, total=   1.4s\n",
      "[CV] degree=2, kernel=rbf ............................................\n",
      "[CV] ................ degree=2, kernel=rbf, score=0.685, total=   1.4s\n",
      "[CV] degree=2, kernel=rbf ............................................\n",
      "[CV] ................ degree=2, kernel=rbf, score=0.603, total=   1.3s\n",
      "[CV] degree=2, kernel=sigmoid ........................................\n",
      "[CV] ............ degree=2, kernel=sigmoid, score=0.261, total=   1.5s\n",
      "[CV] degree=2, kernel=sigmoid ........................................\n",
      "[CV] ............ degree=2, kernel=sigmoid, score=0.084, total=   1.5s\n",
      "[CV] degree=2, kernel=sigmoid ........................................\n",
      "[CV] ............ degree=2, kernel=sigmoid, score=0.266, total=   1.5s\n",
      "[CV] degree=2, kernel=sigmoid ........................................\n",
      "[CV] ............ degree=2, kernel=sigmoid, score=0.212, total=   1.5s\n",
      "[CV] degree=2, kernel=sigmoid ........................................\n",
      "[CV] ............ degree=2, kernel=sigmoid, score=0.128, total=   1.5s\n",
      "[CV] degree=3, kernel=poly ...........................................\n",
      "[CV] ............... degree=3, kernel=poly, score=0.750, total=   1.0s\n",
      "[CV] degree=3, kernel=poly ...........................................\n",
      "[CV] ............... degree=3, kernel=poly, score=0.783, total=   1.1s\n",
      "[CV] degree=3, kernel=poly ...........................................\n",
      "[CV] ............... degree=3, kernel=poly, score=0.767, total=   1.1s\n",
      "[CV] degree=3, kernel=poly ...........................................\n",
      "[CV] ............... degree=3, kernel=poly, score=0.691, total=   1.1s\n",
      "[CV] degree=3, kernel=poly ...........................................\n",
      "[CV] ............... degree=3, kernel=poly, score=0.631, total=   1.1s\n",
      "[CV] degree=3, kernel=linear .........................................\n",
      "[CV] ............. degree=3, kernel=linear, score=0.681, total=   1.5s\n",
      "[CV] degree=3, kernel=linear .........................................\n",
      "[CV] ............. degree=3, kernel=linear, score=0.719, total=   1.6s\n",
      "[CV] degree=3, kernel=linear .........................................\n",
      "[CV] ............. degree=3, kernel=linear, score=0.680, total=   1.6s\n",
      "[CV] degree=3, kernel=linear .........................................\n",
      "[CV] ............. degree=3, kernel=linear, score=0.629, total=   1.5s\n",
      "[CV] degree=3, kernel=linear .........................................\n",
      "[CV] ............. degree=3, kernel=linear, score=0.566, total=   1.5s\n",
      "[CV] degree=3, kernel=rbf ............................................\n",
      "[CV] ................ degree=3, kernel=rbf, score=0.801, total=   1.3s\n",
      "[CV] degree=3, kernel=rbf ............................................\n",
      "[CV] ................ degree=3, kernel=rbf, score=0.765, total=   1.3s\n",
      "[CV] degree=3, kernel=rbf ............................................\n",
      "[CV] ................ degree=3, kernel=rbf, score=0.719, total=   1.3s\n",
      "[CV] degree=3, kernel=rbf ............................................\n",
      "[CV] ................ degree=3, kernel=rbf, score=0.685, total=   1.3s\n",
      "[CV] degree=3, kernel=rbf ............................................\n",
      "[CV] ................ degree=3, kernel=rbf, score=0.603, total=   1.3s\n",
      "[CV] degree=3, kernel=sigmoid ........................................\n",
      "[CV] ............ degree=3, kernel=sigmoid, score=0.261, total=   1.5s\n",
      "[CV] degree=3, kernel=sigmoid ........................................\n",
      "[CV] ............ degree=3, kernel=sigmoid, score=0.084, total=   1.5s\n",
      "[CV] degree=3, kernel=sigmoid ........................................\n",
      "[CV] ............ degree=3, kernel=sigmoid, score=0.266, total=   1.5s\n",
      "[CV] degree=3, kernel=sigmoid ........................................\n",
      "[CV] ............ degree=3, kernel=sigmoid, score=0.212, total=   1.5s\n",
      "[CV] degree=3, kernel=sigmoid ........................................\n",
      "[CV] ............ degree=3, kernel=sigmoid, score=0.128, total=   1.5s\n",
      "[CV] degree=4, kernel=poly ...........................................\n",
      "[CV] ............... degree=4, kernel=poly, score=0.687, total=   1.1s\n",
      "[CV] degree=4, kernel=poly ...........................................\n",
      "[CV] ............... degree=4, kernel=poly, score=0.718, total=   1.1s\n",
      "[CV] degree=4, kernel=poly ...........................................\n",
      "[CV] ............... degree=4, kernel=poly, score=0.703, total=   1.2s\n",
      "[CV] degree=4, kernel=poly ...........................................\n",
      "[CV] ............... degree=4, kernel=poly, score=0.618, total=   1.2s\n",
      "[CV] degree=4, kernel=poly ...........................................\n",
      "[CV] ............... degree=4, kernel=poly, score=0.591, total=   1.1s\n",
      "[CV] degree=4, kernel=linear .........................................\n",
      "[CV] ............. degree=4, kernel=linear, score=0.681, total=   1.5s\n",
      "[CV] degree=4, kernel=linear .........................................\n",
      "[CV] ............. degree=4, kernel=linear, score=0.719, total=   1.6s\n",
      "[CV] degree=4, kernel=linear .........................................\n"
     ]
    },
    {
     "name": "stdout",
     "output_type": "stream",
     "text": [
      "[CV] ............. degree=4, kernel=linear, score=0.680, total=   1.8s\n",
      "[CV] degree=4, kernel=linear .........................................\n",
      "[CV] ............. degree=4, kernel=linear, score=0.629, total=   1.6s\n",
      "[CV] degree=4, kernel=linear .........................................\n",
      "[CV] ............. degree=4, kernel=linear, score=0.566, total=   1.7s\n",
      "[CV] degree=4, kernel=rbf ............................................\n",
      "[CV] ................ degree=4, kernel=rbf, score=0.801, total=   1.4s\n",
      "[CV] degree=4, kernel=rbf ............................................\n",
      "[CV] ................ degree=4, kernel=rbf, score=0.765, total=   1.4s\n",
      "[CV] degree=4, kernel=rbf ............................................\n",
      "[CV] ................ degree=4, kernel=rbf, score=0.719, total=   1.4s\n",
      "[CV] degree=4, kernel=rbf ............................................\n",
      "[CV] ................ degree=4, kernel=rbf, score=0.685, total=   1.4s\n",
      "[CV] degree=4, kernel=rbf ............................................\n",
      "[CV] ................ degree=4, kernel=rbf, score=0.603, total=   1.5s\n",
      "[CV] degree=4, kernel=sigmoid ........................................\n",
      "[CV] ............ degree=4, kernel=sigmoid, score=0.261, total=   1.6s\n",
      "[CV] degree=4, kernel=sigmoid ........................................\n",
      "[CV] ............ degree=4, kernel=sigmoid, score=0.084, total=   1.6s\n",
      "[CV] degree=4, kernel=sigmoid ........................................\n",
      "[CV] ............ degree=4, kernel=sigmoid, score=0.266, total=   1.6s\n",
      "[CV] degree=4, kernel=sigmoid ........................................\n",
      "[CV] ............ degree=4, kernel=sigmoid, score=0.212, total=   1.5s\n",
      "[CV] degree=4, kernel=sigmoid ........................................\n",
      "[CV] ............ degree=4, kernel=sigmoid, score=0.128, total=   1.6s\n",
      "[CV] degree=5, kernel=poly ...........................................\n",
      "[CV] ............... degree=5, kernel=poly, score=0.633, total=   1.3s\n",
      "[CV] degree=5, kernel=poly ...........................................\n",
      "[CV] ............... degree=5, kernel=poly, score=0.668, total=   1.2s\n",
      "[CV] degree=5, kernel=poly ...........................................\n",
      "[CV] ............... degree=5, kernel=poly, score=0.568, total=   1.3s\n",
      "[CV] degree=5, kernel=poly ...........................................\n",
      "[CV] ............... degree=5, kernel=poly, score=0.542, total=   1.2s\n",
      "[CV] degree=5, kernel=poly ...........................................\n",
      "[CV] ............... degree=5, kernel=poly, score=0.551, total=   1.2s\n",
      "[CV] degree=5, kernel=linear .........................................\n",
      "[CV] ............. degree=5, kernel=linear, score=0.681, total=   1.5s\n",
      "[CV] degree=5, kernel=linear .........................................\n",
      "[CV] ............. degree=5, kernel=linear, score=0.719, total=   1.5s\n",
      "[CV] degree=5, kernel=linear .........................................\n",
      "[CV] ............. degree=5, kernel=linear, score=0.680, total=   1.6s\n",
      "[CV] degree=5, kernel=linear .........................................\n",
      "[CV] ............. degree=5, kernel=linear, score=0.629, total=   1.5s\n",
      "[CV] degree=5, kernel=linear .........................................\n",
      "[CV] ............. degree=5, kernel=linear, score=0.566, total=   1.6s\n",
      "[CV] degree=5, kernel=rbf ............................................\n",
      "[CV] ................ degree=5, kernel=rbf, score=0.801, total=   1.4s\n",
      "[CV] degree=5, kernel=rbf ............................................\n",
      "[CV] ................ degree=5, kernel=rbf, score=0.765, total=   1.3s\n",
      "[CV] degree=5, kernel=rbf ............................................\n",
      "[CV] ................ degree=5, kernel=rbf, score=0.719, total=   1.4s\n",
      "[CV] degree=5, kernel=rbf ............................................\n",
      "[CV] ................ degree=5, kernel=rbf, score=0.685, total=   1.3s\n",
      "[CV] degree=5, kernel=rbf ............................................\n",
      "[CV] ................ degree=5, kernel=rbf, score=0.603, total=   1.3s\n",
      "[CV] degree=5, kernel=sigmoid ........................................\n",
      "[CV] ............ degree=5, kernel=sigmoid, score=0.261, total=   1.5s\n",
      "[CV] degree=5, kernel=sigmoid ........................................\n",
      "[CV] ............ degree=5, kernel=sigmoid, score=0.084, total=   1.5s\n",
      "[CV] degree=5, kernel=sigmoid ........................................\n",
      "[CV] ............ degree=5, kernel=sigmoid, score=0.266, total=   1.5s\n",
      "[CV] degree=5, kernel=sigmoid ........................................\n",
      "[CV] ............ degree=5, kernel=sigmoid, score=0.212, total=   1.5s\n",
      "[CV] degree=5, kernel=sigmoid ........................................\n",
      "[CV] ............ degree=5, kernel=sigmoid, score=0.128, total=   1.6s\n"
     ]
    },
    {
     "name": "stderr",
     "output_type": "stream",
     "text": [
      "[Parallel(n_jobs=1)]: Done 100 out of 100 | elapsed:  2.3min finished\n"
     ]
    },
    {
     "name": "stdout",
     "output_type": "stream",
     "text": [
      "Fitting 5 folds for each of 2 candidates, totalling 10 fits\n",
      "[CV] criterion=mse ...................................................\n",
      "[CV] ....................... criterion=mse, score=0.813, total=   0.0s\n",
      "[CV] criterion=mse ...................................................\n",
      "[CV] ....................... criterion=mse, score=0.800, total=   0.0s\n",
      "[CV] criterion=mse ...................................................\n",
      "[CV] ....................... criterion=mse, score=0.749, total=   0.0s\n",
      "[CV] criterion=mse ...................................................\n",
      "[CV] ....................... criterion=mse, score=0.742, total=   0.0s\n",
      "[CV] criterion=mse ...................................................\n"
     ]
    },
    {
     "name": "stderr",
     "output_type": "stream",
     "text": [
      "[Parallel(n_jobs=1)]: Using backend SequentialBackend with 1 concurrent workers.\n",
      "[Parallel(n_jobs=1)]: Done   1 out of   1 | elapsed:    0.0s remaining:    0.0s\n",
      "[Parallel(n_jobs=1)]: Done   2 out of   2 | elapsed:    0.0s remaining:    0.0s\n",
      "[Parallel(n_jobs=1)]: Done   3 out of   3 | elapsed:    0.0s remaining:    0.0s\n",
      "[Parallel(n_jobs=1)]: Done   4 out of   4 | elapsed:    0.1s remaining:    0.0s\n"
     ]
    },
    {
     "name": "stdout",
     "output_type": "stream",
     "text": [
      "[CV] ....................... criterion=mse, score=0.758, total=   0.1s\n",
      "[CV] criterion=mae ...................................................\n"
     ]
    },
    {
     "name": "stderr",
     "output_type": "stream",
     "text": [
      "[Parallel(n_jobs=1)]: Done   5 out of   5 | elapsed:    0.1s remaining:    0.0s\n"
     ]
    },
    {
     "name": "stdout",
     "output_type": "stream",
     "text": [
      "[CV] ....................... criterion=mae, score=0.839, total=   1.2s\n",
      "[CV] criterion=mae ...................................................\n"
     ]
    },
    {
     "name": "stderr",
     "output_type": "stream",
     "text": [
      "[Parallel(n_jobs=1)]: Done   6 out of   6 | elapsed:    1.4s remaining:    0.0s\n"
     ]
    },
    {
     "name": "stdout",
     "output_type": "stream",
     "text": [
      "[CV] ....................... criterion=mae, score=0.817, total=   1.2s\n",
      "[CV] criterion=mae ...................................................\n"
     ]
    },
    {
     "name": "stderr",
     "output_type": "stream",
     "text": [
      "[Parallel(n_jobs=1)]: Done   7 out of   7 | elapsed:    2.6s remaining:    0.0s\n"
     ]
    },
    {
     "name": "stdout",
     "output_type": "stream",
     "text": [
      "[CV] ....................... criterion=mae, score=0.743, total=   1.2s\n",
      "[CV] criterion=mae ...................................................\n"
     ]
    },
    {
     "name": "stderr",
     "output_type": "stream",
     "text": [
      "[Parallel(n_jobs=1)]: Done   8 out of   8 | elapsed:    3.8s remaining:    0.0s\n"
     ]
    },
    {
     "name": "stdout",
     "output_type": "stream",
     "text": [
      "[CV] ....................... criterion=mae, score=0.633, total=   1.2s\n",
      "[CV] criterion=mae ...................................................\n"
     ]
    },
    {
     "name": "stderr",
     "output_type": "stream",
     "text": [
      "[Parallel(n_jobs=1)]: Done   9 out of   9 | elapsed:    5.1s remaining:    0.0s\n"
     ]
    },
    {
     "name": "stdout",
     "output_type": "stream",
     "text": [
      "[CV] ....................... criterion=mae, score=0.736, total=   1.2s\n",
      "Fitting 5 folds for each of 10 candidates, totalling 50 fits\n",
      "[CV] criterion=mse, n_estimators=50 ..................................\n"
     ]
    },
    {
     "name": "stderr",
     "output_type": "stream",
     "text": [
      "[Parallel(n_jobs=1)]: Done  10 out of  10 | elapsed:    6.3s finished\n",
      "[Parallel(n_jobs=1)]: Using backend SequentialBackend with 1 concurrent workers.\n"
     ]
    },
    {
     "name": "stdout",
     "output_type": "stream",
     "text": [
      "[CV] ...... criterion=mse, n_estimators=50, score=0.921, total=   1.5s\n",
      "[CV] criterion=mse, n_estimators=50 ..................................\n"
     ]
    },
    {
     "name": "stderr",
     "output_type": "stream",
     "text": [
      "[Parallel(n_jobs=1)]: Done   1 out of   1 | elapsed:    1.4s remaining:    0.0s\n"
     ]
    },
    {
     "name": "stdout",
     "output_type": "stream",
     "text": [
      "[CV] ...... criterion=mse, n_estimators=50, score=0.902, total=   1.5s\n",
      "[CV] criterion=mse, n_estimators=50 ..................................\n"
     ]
    },
    {
     "name": "stderr",
     "output_type": "stream",
     "text": [
      "[Parallel(n_jobs=1)]: Done   2 out of   2 | elapsed:    2.9s remaining:    0.0s\n"
     ]
    },
    {
     "name": "stdout",
     "output_type": "stream",
     "text": [
      "[CV] ...... criterion=mse, n_estimators=50, score=0.877, total=   1.9s\n",
      "[CV] criterion=mse, n_estimators=50 ..................................\n"
     ]
    },
    {
     "name": "stderr",
     "output_type": "stream",
     "text": [
      "[Parallel(n_jobs=1)]: Done   3 out of   3 | elapsed:    4.8s remaining:    0.0s\n"
     ]
    },
    {
     "name": "stdout",
     "output_type": "stream",
     "text": [
      "[CV] ...... criterion=mse, n_estimators=50, score=0.890, total=   1.8s\n",
      "[CV] criterion=mse, n_estimators=50 ..................................\n"
     ]
    },
    {
     "name": "stderr",
     "output_type": "stream",
     "text": [
      "[Parallel(n_jobs=1)]: Done   4 out of   4 | elapsed:    6.5s remaining:    0.0s\n"
     ]
    },
    {
     "name": "stdout",
     "output_type": "stream",
     "text": [
      "[CV] ...... criterion=mse, n_estimators=50, score=0.789, total=   1.6s\n",
      "[CV] criterion=mse, n_estimators=100 .................................\n"
     ]
    },
    {
     "name": "stderr",
     "output_type": "stream",
     "text": [
      "[Parallel(n_jobs=1)]: Done   5 out of   5 | elapsed:    8.1s remaining:    0.0s\n"
     ]
    },
    {
     "name": "stdout",
     "output_type": "stream",
     "text": [
      "[CV] ..... criterion=mse, n_estimators=100, score=0.917, total=   3.3s\n",
      "[CV] criterion=mse, n_estimators=100 .................................\n"
     ]
    },
    {
     "name": "stderr",
     "output_type": "stream",
     "text": [
      "[Parallel(n_jobs=1)]: Done   6 out of   6 | elapsed:   11.5s remaining:    0.0s\n"
     ]
    },
    {
     "name": "stdout",
     "output_type": "stream",
     "text": [
      "[CV] ..... criterion=mse, n_estimators=100, score=0.903, total=   3.3s\n",
      "[CV] criterion=mse, n_estimators=100 .................................\n"
     ]
    },
    {
     "name": "stderr",
     "output_type": "stream",
     "text": [
      "[Parallel(n_jobs=1)]: Done   7 out of   7 | elapsed:   14.8s remaining:    0.0s\n"
     ]
    },
    {
     "name": "stdout",
     "output_type": "stream",
     "text": [
      "[CV] ..... criterion=mse, n_estimators=100, score=0.885, total=   3.3s\n",
      "[CV] criterion=mse, n_estimators=100 .................................\n"
     ]
    },
    {
     "name": "stderr",
     "output_type": "stream",
     "text": [
      "[Parallel(n_jobs=1)]: Done   8 out of   8 | elapsed:   18.1s remaining:    0.0s\n"
     ]
    },
    {
     "name": "stdout",
     "output_type": "stream",
     "text": [
      "[CV] ..... criterion=mse, n_estimators=100, score=0.885, total=   3.0s\n",
      "[CV] criterion=mse, n_estimators=100 .................................\n"
     ]
    },
    {
     "name": "stderr",
     "output_type": "stream",
     "text": [
      "[Parallel(n_jobs=1)]: Done   9 out of   9 | elapsed:   21.2s remaining:    0.0s\n"
     ]
    },
    {
     "name": "stdout",
     "output_type": "stream",
     "text": [
      "[CV] ..... criterion=mse, n_estimators=100, score=0.798, total=   2.9s\n",
      "[CV] criterion=mse, n_estimators=150 .................................\n",
      "[CV] ..... criterion=mse, n_estimators=150, score=0.919, total=   4.3s\n",
      "[CV] criterion=mse, n_estimators=150 .................................\n",
      "[CV] ..... criterion=mse, n_estimators=150, score=0.903, total=   4.4s\n",
      "[CV] criterion=mse, n_estimators=150 .................................\n",
      "[CV] ..... criterion=mse, n_estimators=150, score=0.884, total=   4.6s\n",
      "[CV] criterion=mse, n_estimators=150 .................................\n",
      "[CV] ..... criterion=mse, n_estimators=150, score=0.885, total=   4.4s\n",
      "[CV] criterion=mse, n_estimators=150 .................................\n",
      "[CV] ..... criterion=mse, n_estimators=150, score=0.796, total=   4.3s\n",
      "[CV] criterion=mse, n_estimators=200 .................................\n",
      "[CV] ..... criterion=mse, n_estimators=200, score=0.914, total=   5.8s\n",
      "[CV] criterion=mse, n_estimators=200 .................................\n",
      "[CV] ..... criterion=mse, n_estimators=200, score=0.906, total=   6.0s\n",
      "[CV] criterion=mse, n_estimators=200 .................................\n",
      "[CV] ..... criterion=mse, n_estimators=200, score=0.883, total=   6.1s\n",
      "[CV] criterion=mse, n_estimators=200 .................................\n",
      "[CV] ..... criterion=mse, n_estimators=200, score=0.884, total=   6.7s\n",
      "[CV] criterion=mse, n_estimators=200 .................................\n",
      "[CV] ..... criterion=mse, n_estimators=200, score=0.796, total=   6.3s\n",
      "[CV] criterion=mse, n_estimators=250 .................................\n",
      "[CV] ..... criterion=mse, n_estimators=250, score=0.917, total=   7.4s\n",
      "[CV] criterion=mse, n_estimators=250 .................................\n",
      "[CV] ..... criterion=mse, n_estimators=250, score=0.900, total=   7.4s\n",
      "[CV] criterion=mse, n_estimators=250 .................................\n",
      "[CV] ..... criterion=mse, n_estimators=250, score=0.890, total=   7.5s\n",
      "[CV] criterion=mse, n_estimators=250 .................................\n",
      "[CV] ..... criterion=mse, n_estimators=250, score=0.890, total=   7.7s\n",
      "[CV] criterion=mse, n_estimators=250 .................................\n",
      "[CV] ..... criterion=mse, n_estimators=250, score=0.798, total=   7.8s\n",
      "[CV] criterion=mae, n_estimators=50 ..................................\n",
      "[CV] ...... criterion=mae, n_estimators=50, score=0.910, total=  32.5s\n",
      "[CV] criterion=mae, n_estimators=50 ..................................\n",
      "[CV] ...... criterion=mae, n_estimators=50, score=0.896, total=  27.3s\n",
      "[CV] criterion=mae, n_estimators=50 ..................................\n",
      "[CV] ...... criterion=mae, n_estimators=50, score=0.892, total=  30.4s\n",
      "[CV] criterion=mae, n_estimators=50 ..................................\n",
      "[CV] ...... criterion=mae, n_estimators=50, score=0.885, total=  28.0s\n",
      "[CV] criterion=mae, n_estimators=50 ..................................\n",
      "[CV] ...... criterion=mae, n_estimators=50, score=0.790, total=  28.2s\n",
      "[CV] criterion=mae, n_estimators=100 .................................\n",
      "[CV] ..... criterion=mae, n_estimators=100, score=0.907, total=  57.0s\n",
      "[CV] criterion=mae, n_estimators=100 .................................\n",
      "[CV] ..... criterion=mae, n_estimators=100, score=0.901, total=  55.9s\n",
      "[CV] criterion=mae, n_estimators=100 .................................\n",
      "[CV] ..... criterion=mae, n_estimators=100, score=0.898, total=  56.7s\n",
      "[CV] criterion=mae, n_estimators=100 .................................\n",
      "[CV] ..... criterion=mae, n_estimators=100, score=0.879, total=  53.4s\n",
      "[CV] criterion=mae, n_estimators=100 .................................\n",
      "[CV] ..... criterion=mae, n_estimators=100, score=0.795, total=  55.8s\n",
      "[CV] criterion=mae, n_estimators=150 .................................\n",
      "[CV] ..... criterion=mae, n_estimators=150, score=0.910, total= 1.4min\n",
      "[CV] criterion=mae, n_estimators=150 .................................\n",
      "[CV] ..... criterion=mae, n_estimators=150, score=0.903, total= 1.4min\n",
      "[CV] criterion=mae, n_estimators=150 .................................\n",
      "[CV] ..... criterion=mae, n_estimators=150, score=0.893, total= 1.4min\n",
      "[CV] criterion=mae, n_estimators=150 .................................\n",
      "[CV] ..... criterion=mae, n_estimators=150, score=0.880, total= 1.4min\n",
      "[CV] criterion=mae, n_estimators=150 .................................\n",
      "[CV] ..... criterion=mae, n_estimators=150, score=0.793, total= 1.4min\n",
      "[CV] criterion=mae, n_estimators=200 .................................\n",
      "[CV] ..... criterion=mae, n_estimators=200, score=0.912, total= 1.9min\n",
      "[CV] criterion=mae, n_estimators=200 .................................\n",
      "[CV] ..... criterion=mae, n_estimators=200, score=0.900, total= 1.9min\n",
      "[CV] criterion=mae, n_estimators=200 .................................\n",
      "[CV] ..... criterion=mae, n_estimators=200, score=0.893, total= 1.9min\n",
      "[CV] criterion=mae, n_estimators=200 .................................\n",
      "[CV] ..... criterion=mae, n_estimators=200, score=0.885, total= 1.9min\n",
      "[CV] criterion=mae, n_estimators=200 .................................\n",
      "[CV] ..... criterion=mae, n_estimators=200, score=0.793, total= 1.8min\n",
      "[CV] criterion=mae, n_estimators=250 .................................\n",
      "[CV] ..... criterion=mae, n_estimators=250, score=0.915, total= 2.3min\n",
      "[CV] criterion=mae, n_estimators=250 .................................\n",
      "[CV] ..... criterion=mae, n_estimators=250, score=0.901, total= 2.5min\n",
      "[CV] criterion=mae, n_estimators=250 .................................\n",
      "[CV] ..... criterion=mae, n_estimators=250, score=0.890, total= 2.4min\n",
      "[CV] criterion=mae, n_estimators=250 .................................\n",
      "[CV] ..... criterion=mae, n_estimators=250, score=0.888, total= 2.4min\n",
      "[CV] criterion=mae, n_estimators=250 .................................\n",
      "[CV] ..... criterion=mae, n_estimators=250, score=0.793, total= 2.2min\n"
     ]
    },
    {
     "name": "stderr",
     "output_type": "stream",
     "text": [
      "[Parallel(n_jobs=1)]: Done  50 out of  50 | elapsed: 37.2min finished\n"
     ]
    },
    {
     "name": "stdout",
     "output_type": "stream",
     "text": [
      "Fitting 5 folds for each of 10 candidates, totalling 50 fits\n",
      "[CV] criterion=mse, n_estimators=50 ..................................\n"
     ]
    },
    {
     "name": "stderr",
     "output_type": "stream",
     "text": [
      "[Parallel(n_jobs=1)]: Using backend SequentialBackend with 1 concurrent workers.\n"
     ]
    },
    {
     "name": "stdout",
     "output_type": "stream",
     "text": [
      "[CV] ...... criterion=mse, n_estimators=50, score=0.899, total=   1.3s\n",
      "[CV] criterion=mse, n_estimators=50 ..................................\n"
     ]
    },
    {
     "name": "stderr",
     "output_type": "stream",
     "text": [
      "[Parallel(n_jobs=1)]: Done   1 out of   1 | elapsed:    1.2s remaining:    0.0s\n"
     ]
    },
    {
     "name": "stdout",
     "output_type": "stream",
     "text": [
      "[CV] ...... criterion=mse, n_estimators=50, score=0.913, total=   1.2s\n",
      "[CV] criterion=mse, n_estimators=50 ..................................\n"
     ]
    },
    {
     "name": "stderr",
     "output_type": "stream",
     "text": [
      "[Parallel(n_jobs=1)]: Done   2 out of   2 | elapsed:    2.4s remaining:    0.0s\n"
     ]
    },
    {
     "name": "stdout",
     "output_type": "stream",
     "text": [
      "[CV] ...... criterion=mse, n_estimators=50, score=0.868, total=   1.2s\n",
      "[CV] criterion=mse, n_estimators=50 ..................................\n"
     ]
    },
    {
     "name": "stderr",
     "output_type": "stream",
     "text": [
      "[Parallel(n_jobs=1)]: Done   3 out of   3 | elapsed:    3.6s remaining:    0.0s\n"
     ]
    },
    {
     "name": "stdout",
     "output_type": "stream",
     "text": [
      "[CV] ...... criterion=mse, n_estimators=50, score=0.893, total=   1.2s\n",
      "[CV] criterion=mse, n_estimators=50 ..................................\n"
     ]
    },
    {
     "name": "stderr",
     "output_type": "stream",
     "text": [
      "[Parallel(n_jobs=1)]: Done   4 out of   4 | elapsed:    4.9s remaining:    0.0s\n"
     ]
    },
    {
     "name": "stdout",
     "output_type": "stream",
     "text": [
      "[CV] ...... criterion=mse, n_estimators=50, score=0.804, total=   1.2s\n",
      "[CV] criterion=mse, n_estimators=100 .................................\n"
     ]
    },
    {
     "name": "stderr",
     "output_type": "stream",
     "text": [
      "[Parallel(n_jobs=1)]: Done   5 out of   5 | elapsed:    6.1s remaining:    0.0s\n"
     ]
    },
    {
     "name": "stdout",
     "output_type": "stream",
     "text": [
      "[CV] ..... criterion=mse, n_estimators=100, score=0.899, total=   2.5s\n",
      "[CV] criterion=mse, n_estimators=100 .................................\n"
     ]
    },
    {
     "name": "stderr",
     "output_type": "stream",
     "text": [
      "[Parallel(n_jobs=1)]: Done   6 out of   6 | elapsed:    8.6s remaining:    0.0s\n"
     ]
    },
    {
     "name": "stdout",
     "output_type": "stream",
     "text": [
      "[CV] ..... criterion=mse, n_estimators=100, score=0.904, total=   2.4s\n",
      "[CV] criterion=mse, n_estimators=100 .................................\n"
     ]
    },
    {
     "name": "stderr",
     "output_type": "stream",
     "text": [
      "[Parallel(n_jobs=1)]: Done   7 out of   7 | elapsed:   11.0s remaining:    0.0s\n"
     ]
    },
    {
     "name": "stdout",
     "output_type": "stream",
     "text": [
      "[CV] ..... criterion=mse, n_estimators=100, score=0.873, total=   2.5s\n",
      "[CV] criterion=mse, n_estimators=100 .................................\n"
     ]
    },
    {
     "name": "stderr",
     "output_type": "stream",
     "text": [
      "[Parallel(n_jobs=1)]: Done   8 out of   8 | elapsed:   13.5s remaining:    0.0s\n"
     ]
    },
    {
     "name": "stdout",
     "output_type": "stream",
     "text": [
      "[CV] ..... criterion=mse, n_estimators=100, score=0.890, total=   2.5s\n",
      "[CV] criterion=mse, n_estimators=100 .................................\n"
     ]
    },
    {
     "name": "stderr",
     "output_type": "stream",
     "text": [
      "[Parallel(n_jobs=1)]: Done   9 out of   9 | elapsed:   16.0s remaining:    0.0s\n"
     ]
    },
    {
     "name": "stdout",
     "output_type": "stream",
     "text": [
      "[CV] ..... criterion=mse, n_estimators=100, score=0.806, total=   2.5s\n",
      "[CV] criterion=mse, n_estimators=150 .................................\n",
      "[CV] ..... criterion=mse, n_estimators=150, score=0.906, total=   3.7s\n",
      "[CV] criterion=mse, n_estimators=150 .................................\n",
      "[CV] ..... criterion=mse, n_estimators=150, score=0.910, total=   3.7s\n",
      "[CV] criterion=mse, n_estimators=150 .................................\n",
      "[CV] ..... criterion=mse, n_estimators=150, score=0.871, total=   3.7s\n",
      "[CV] criterion=mse, n_estimators=150 .................................\n",
      "[CV] ..... criterion=mse, n_estimators=150, score=0.890, total=   3.7s\n",
      "[CV] criterion=mse, n_estimators=150 .................................\n",
      "[CV] ..... criterion=mse, n_estimators=150, score=0.810, total=   3.6s\n",
      "[CV] criterion=mse, n_estimators=200 .................................\n",
      "[CV] ..... criterion=mse, n_estimators=200, score=0.907, total=   5.0s\n",
      "[CV] criterion=mse, n_estimators=200 .................................\n",
      "[CV] ..... criterion=mse, n_estimators=200, score=0.911, total=   4.9s\n",
      "[CV] criterion=mse, n_estimators=200 .................................\n",
      "[CV] ..... criterion=mse, n_estimators=200, score=0.876, total=   4.9s\n",
      "[CV] criterion=mse, n_estimators=200 .................................\n",
      "[CV] ..... criterion=mse, n_estimators=200, score=0.889, total=   4.9s\n",
      "[CV] criterion=mse, n_estimators=200 .................................\n",
      "[CV] ..... criterion=mse, n_estimators=200, score=0.811, total=   5.2s\n",
      "[CV] criterion=mse, n_estimators=250 .................................\n",
      "[CV] ..... criterion=mse, n_estimators=250, score=0.906, total=   6.1s\n",
      "[CV] criterion=mse, n_estimators=250 .................................\n",
      "[CV] ..... criterion=mse, n_estimators=250, score=0.910, total=   6.5s\n",
      "[CV] criterion=mse, n_estimators=250 .................................\n",
      "[CV] ..... criterion=mse, n_estimators=250, score=0.871, total=   6.5s\n",
      "[CV] criterion=mse, n_estimators=250 .................................\n",
      "[CV] ..... criterion=mse, n_estimators=250, score=0.891, total=   6.1s\n",
      "[CV] criterion=mse, n_estimators=250 .................................\n",
      "[CV] ..... criterion=mse, n_estimators=250, score=0.808, total=   6.1s\n",
      "[CV] criterion=mae, n_estimators=50 ..................................\n",
      "[CV] ...... criterion=mae, n_estimators=50, score=0.909, total=  40.8s\n",
      "[CV] criterion=mae, n_estimators=50 ..................................\n",
      "[CV] ...... criterion=mae, n_estimators=50, score=0.905, total=  41.8s\n",
      "[CV] criterion=mae, n_estimators=50 ..................................\n",
      "[CV] ...... criterion=mae, n_estimators=50, score=0.889, total=  43.5s\n",
      "[CV] criterion=mae, n_estimators=50 ..................................\n",
      "[CV] ...... criterion=mae, n_estimators=50, score=0.889, total=  43.0s\n",
      "[CV] criterion=mae, n_estimators=50 ..................................\n",
      "[CV] ...... criterion=mae, n_estimators=50, score=0.809, total=  42.0s\n",
      "[CV] criterion=mae, n_estimators=100 .................................\n",
      "[CV] ..... criterion=mae, n_estimators=100, score=0.904, total= 1.3min\n",
      "[CV] criterion=mae, n_estimators=100 .................................\n",
      "[CV] ..... criterion=mae, n_estimators=100, score=0.905, total= 1.4min\n",
      "[CV] criterion=mae, n_estimators=100 .................................\n",
      "[CV] ..... criterion=mae, n_estimators=100, score=0.878, total= 1.4min\n",
      "[CV] criterion=mae, n_estimators=100 .................................\n",
      "[CV] ..... criterion=mae, n_estimators=100, score=0.886, total= 1.4min\n",
      "[CV] criterion=mae, n_estimators=100 .................................\n",
      "[CV] ..... criterion=mae, n_estimators=100, score=0.815, total= 1.4min\n",
      "[CV] criterion=mae, n_estimators=150 .................................\n",
      "[CV] ..... criterion=mae, n_estimators=150, score=0.904, total= 2.1min\n",
      "[CV] criterion=mae, n_estimators=150 .................................\n",
      "[CV] ..... criterion=mae, n_estimators=150, score=0.909, total= 2.1min\n",
      "[CV] criterion=mae, n_estimators=150 .................................\n",
      "[CV] ..... criterion=mae, n_estimators=150, score=0.880, total= 2.1min\n",
      "[CV] criterion=mae, n_estimators=150 .................................\n",
      "[CV] ..... criterion=mae, n_estimators=150, score=0.883, total= 2.1min\n",
      "[CV] criterion=mae, n_estimators=150 .................................\n",
      "[CV] ..... criterion=mae, n_estimators=150, score=0.813, total= 1.9min\n",
      "[CV] criterion=mae, n_estimators=200 .................................\n",
      "[CV] ..... criterion=mae, n_estimators=200, score=0.905, total= 2.7min\n",
      "[CV] criterion=mae, n_estimators=200 .................................\n",
      "[CV] ..... criterion=mae, n_estimators=200, score=0.907, total= 2.7min\n",
      "[CV] criterion=mae, n_estimators=200 .................................\n",
      "[CV] ..... criterion=mae, n_estimators=200, score=0.882, total= 2.8min\n",
      "[CV] criterion=mae, n_estimators=200 .................................\n",
      "[CV] ..... criterion=mae, n_estimators=200, score=0.889, total= 2.8min\n",
      "[CV] criterion=mae, n_estimators=200 .................................\n",
      "[CV] ..... criterion=mae, n_estimators=200, score=0.818, total= 2.7min\n",
      "[CV] criterion=mae, n_estimators=250 .................................\n",
      "[CV] ..... criterion=mae, n_estimators=250, score=0.910, total= 3.5min\n",
      "[CV] criterion=mae, n_estimators=250 .................................\n",
      "[CV] ..... criterion=mae, n_estimators=250, score=0.911, total= 3.5min\n",
      "[CV] criterion=mae, n_estimators=250 .................................\n",
      "[CV] ..... criterion=mae, n_estimators=250, score=0.875, total= 3.4min\n",
      "[CV] criterion=mae, n_estimators=250 .................................\n",
      "[CV] ..... criterion=mae, n_estimators=250, score=0.885, total= 3.5min\n",
      "[CV] criterion=mae, n_estimators=250 .................................\n",
      "[CV] ..... criterion=mae, n_estimators=250, score=0.814, total= 3.3min\n"
     ]
    },
    {
     "name": "stderr",
     "output_type": "stream",
     "text": [
      "[Parallel(n_jobs=1)]: Done  50 out of  50 | elapsed: 53.3min finished\n"
     ]
    }
   ],
   "source": [
    "acc = []\n",
    "for model_name, params in algorithms.items():\n",
    "    grid= GridSearchCV(params['Model'], param_grid = params['Params'], verbose=10, cv=5 )\n",
    "    grid.fit(X_train, y_train)\n",
    "    acc.append({'Model' : model_name, 'Best Score' : grid.best_score_, 'Best Parameters': grid.best_params_ })\n",
    "    \n",
    "    "
   ]
  },
  {
   "cell_type": "code",
   "execution_count": 98,
   "metadata": {},
   "outputs": [
    {
     "data": {
      "text/html": [
       "<div>\n",
       "<style scoped>\n",
       "    .dataframe tbody tr th:only-of-type {\n",
       "        vertical-align: middle;\n",
       "    }\n",
       "\n",
       "    .dataframe tbody tr th {\n",
       "        vertical-align: top;\n",
       "    }\n",
       "\n",
       "    .dataframe thead th {\n",
       "        text-align: right;\n",
       "    }\n",
       "</style>\n",
       "<table border=\"1\" class=\"dataframe\">\n",
       "  <thead>\n",
       "    <tr style=\"text-align: right;\">\n",
       "      <th></th>\n",
       "      <th>Model</th>\n",
       "      <th>Best Score</th>\n",
       "      <th>Best Parameters</th>\n",
       "    </tr>\n",
       "  </thead>\n",
       "  <tbody>\n",
       "    <tr>\n",
       "      <th>6</th>\n",
       "      <td>Extra Trees Regressor</td>\n",
       "      <td>0.880200</td>\n",
       "      <td>{'criterion': 'mae', 'n_estimators': 50}</td>\n",
       "    </tr>\n",
       "    <tr>\n",
       "      <th>5</th>\n",
       "      <td>Random Forest Regressor</td>\n",
       "      <td>0.878867</td>\n",
       "      <td>{'criterion': 'mse', 'n_estimators': 250}</td>\n",
       "    </tr>\n",
       "    <tr>\n",
       "      <th>4</th>\n",
       "      <td>Decision Tree Regressor</td>\n",
       "      <td>0.772620</td>\n",
       "      <td>{'criterion': 'mse'}</td>\n",
       "    </tr>\n",
       "    <tr>\n",
       "      <th>3</th>\n",
       "      <td>SVR</td>\n",
       "      <td>0.724506</td>\n",
       "      <td>{'degree': 3, 'kernel': 'poly'}</td>\n",
       "    </tr>\n",
       "    <tr>\n",
       "      <th>2</th>\n",
       "      <td>Ridge</td>\n",
       "      <td>0.714349</td>\n",
       "      <td>{'alpha': 5, 'normalize': False}</td>\n",
       "    </tr>\n",
       "    <tr>\n",
       "      <th>0</th>\n",
       "      <td>Linear Regression</td>\n",
       "      <td>0.705124</td>\n",
       "      <td>{'normalize': True}</td>\n",
       "    </tr>\n",
       "    <tr>\n",
       "      <th>1</th>\n",
       "      <td>Lasso</td>\n",
       "      <td>0.679151</td>\n",
       "      <td>{'alpha': 1, 'normalize': False}</td>\n",
       "    </tr>\n",
       "  </tbody>\n",
       "</table>\n",
       "</div>"
      ],
      "text/plain": [
       "                     Model  Best Score  \\\n",
       "6    Extra Trees Regressor    0.880200   \n",
       "5  Random Forest Regressor    0.878867   \n",
       "4  Decision Tree Regressor    0.772620   \n",
       "3                      SVR    0.724506   \n",
       "2                    Ridge    0.714349   \n",
       "0        Linear Regression    0.705124   \n",
       "1                    Lasso    0.679151   \n",
       "\n",
       "                             Best Parameters  \n",
       "6   {'criterion': 'mae', 'n_estimators': 50}  \n",
       "5  {'criterion': 'mse', 'n_estimators': 250}  \n",
       "4                       {'criterion': 'mse'}  \n",
       "3            {'degree': 3, 'kernel': 'poly'}  \n",
       "2           {'alpha': 5, 'normalize': False}  \n",
       "0                        {'normalize': True}  \n",
       "1           {'alpha': 1, 'normalize': False}  "
      ]
     },
     "execution_count": 98,
     "metadata": {},
     "output_type": "execute_result"
    }
   ],
   "source": [
    "result = pd.DataFrame(acc)\n",
    "result.sort_values('Best Score', ascending = False)"
   ]
  },
  {
   "cell_type": "code",
   "execution_count": 107,
   "metadata": {},
   "outputs": [],
   "source": [
    "trees = ExtraTreesRegressor(criterion='mae', n_estimators = 50)\n",
    "trees.fit(X_train, y_train)\n",
    "pred = trees.predict(X_test)"
   ]
  },
  {
   "cell_type": "code",
   "execution_count": 108,
   "metadata": {},
   "outputs": [
    {
     "name": "stdout",
     "output_type": "stream",
     "text": [
      "This is the train score 1.0 \n",
      "This is the test score 0.8530979797529591 \n"
     ]
    }
   ],
   "source": [
    "train_pred = trees.predict(X_train)\n",
    "train_score = r2_score(y_train, train_pred)\n",
    "# test_score =r2_score(y_test, pred)\n",
    "test_score = r2_score(y_test, pred)\n",
    "print(f'This is the train score {train_score} ')\n",
    "print(f'This is the test score {test_score} ')"
   ]
  },
  {
   "cell_type": "markdown",
   "metadata": {},
   "source": [
    "Checking for the root mean squared error and the mean absolute error"
   ]
  },
  {
   "cell_type": "code",
   "execution_count": 110,
   "metadata": {},
   "outputs": [
    {
     "name": "stdout",
     "output_type": "stream",
     "text": [
      "The root mean squared error of the model is 4.400606923471121\n",
      "The mean squared error of the model is 19.36534129490196\n",
      "The mean absolute error of the model is 1.725949019607843\n"
     ]
    }
   ],
   "source": [
    "mse = mean_squared_error(y_test, pred)\n",
    "mae = mean_absolute_error(y_test, pred)\n",
    "rmse = np.sqrt(mse)\n",
    "\n",
    "print(f'The root mean squared error of the model is {rmse}')\n",
    "print(f'The mean squared error of the model is {mse}')\n",
    "print(f'The mean absolute error of the model is {mae}')"
   ]
  },
  {
   "cell_type": "code",
   "execution_count": null,
   "metadata": {},
   "outputs": [],
   "source": []
  }
 ],
 "metadata": {
  "kernelspec": {
   "display_name": "Python 3",
   "language": "python",
   "name": "python3"
  },
  "language_info": {
   "codemirror_mode": {
    "name": "ipython",
    "version": 3
   },
   "file_extension": ".py",
   "mimetype": "text/x-python",
   "name": "python",
   "nbconvert_exporter": "python",
   "pygments_lexer": "ipython3",
   "version": "3.7.6"
  }
 },
 "nbformat": 4,
 "nbformat_minor": 4
}
